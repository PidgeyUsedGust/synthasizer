{
 "cells": [
  {
   "cell_type": "code",
   "execution_count": 1,
   "metadata": {},
   "outputs": [],
   "source": [
    "%reload_ext autoreload\n",
    "%autoreload 2\n",
    "\n",
    "import itertools\n",
    "import pandas as pd\n",
    "import openpyxl\n",
    "\n",
    "from synthasizer.table import Table\n",
    "from synthasizer.similarity import *"
   ]
  },
  {
   "cell_type": "code",
   "execution_count": 2,
   "metadata": {},
   "outputs": [
    {
     "output_type": "execute_result",
     "data": {
      "text/plain": [
       "0.7857142857142857"
      ]
     },
     "metadata": {},
     "execution_count": 2
    }
   ],
   "source": [
    "PatternSimilarity()(\"Something BAD Lol\", \"Hello world what\")"
   ]
  },
  {
   "cell_type": "code",
   "execution_count": 3,
   "metadata": {},
   "outputs": [
    {
     "output_type": "execute_result",
     "data": {
      "text/plain": [
       "0.7857142857142857"
      ]
     },
     "metadata": {},
     "execution_count": 3
    }
   ],
   "source": [
    "CompressedSimilarity()(\"Something BAD LOL\", \"Hello world What\")"
   ]
  },
  {
   "cell_type": "code",
   "execution_count": 4,
   "metadata": {},
   "outputs": [
    {
     "output_type": "execute_result",
     "data": {
      "text/plain": [
       "'Aa'"
      ]
     },
     "metadata": {},
     "execution_count": 4
    }
   ],
   "source": [
    "from synthasizer.similarity import _pattern\n",
    "\n",
    "_pattern('Aa Aa')"
   ]
  },
  {
   "cell_type": "code",
   "execution_count": null,
   "metadata": {},
   "outputs": [],
   "source": []
  }
 ],
 "metadata": {
  "kernelspec": {
   "name": "python395jvsc74a57bd05a7bf517d1db13cfe7af313b786612ecdd2eb920b6e429ca6f332d19c4800d9b",
   "display_name": "Python 3.9.5 64-bit ('synthasizer-llFb8Gxw': pipenv)"
  },
  "language_info": {
   "codemirror_mode": {
    "name": "ipython",
    "version": 3
   },
   "file_extension": ".py",
   "mimetype": "text/x-python",
   "name": "python",
   "nbconvert_exporter": "python",
   "pygments_lexer": "ipython3",
   "version": "3.9.5"
  }
 },
 "nbformat": 4,
 "nbformat_minor": 4
}