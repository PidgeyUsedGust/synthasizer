{
 "cells": [
  {
   "cell_type": "code",
   "execution_count": 49,
   "metadata": {},
   "outputs": [],
   "source": [
    "%reload_ext autoreload\r\n",
    "%autoreload 2\r\n",
    "\r\n",
    "import openpyxl\r\n",
    "import pandas as pd\r\n",
    "import numpy as np\r\n",
    "\r\n",
    "from synthasizer.table import Table, Cell, detect\r\n",
    "from synthasizer.transformations import *\r\n",
    "from synthasizer.conditions import *\r\n",
    "from synthasizer.heuristics import *\r\n",
    "from synthasizer.error import ReconstructionError, ContentReconstructionError"
   ]
  },
  {
   "cell_type": "code",
   "execution_count": 19,
   "metadata": {},
   "outputs": [
    {
     "data": {
      "text/plain": [
       "           0        1     2     3       4      5       6\n",
       "0       Type  Country  June  July  August  Total  Profit\n",
       "1     Banana       BE   170   690     520   1380     YES\n",
       "2                  DE   610   640     320   1570      NO\n",
       "3                  DE   250   650     630   1530     YES\n",
       "4  Chocolate       BE   560   320     140   1020     YES\n",
       "5                  FR   430   350     300   1080     YES\n",
       "6                                                       \n",
       "7                  NL   210   280     270    760      NO\n",
       "8  Speculaas       BE   300   270     290    860      NO\n",
       "9    Vanilla       BE   610   190     670   1470     YES"
      ]
     },
     "metadata": {},
     "output_type": "display_data"
    },
    {
     "data": {
      "text/html": [
       "<div>\n",
       "<style scoped>\n",
       "    .dataframe tbody tr th:only-of-type {\n",
       "        vertical-align: middle;\n",
       "    }\n",
       "\n",
       "    .dataframe tbody tr th {\n",
       "        vertical-align: top;\n",
       "    }\n",
       "\n",
       "    .dataframe thead th {\n",
       "        text-align: right;\n",
       "    }\n",
       "</style>\n",
       "<table border=\"1\" class=\"dataframe\">\n",
       "  <thead>\n",
       "    <tr style=\"text-align: right;\">\n",
       "      <th></th>\n",
       "      <th>0</th>\n",
       "      <th>0</th>\n",
       "      <th>0</th>\n",
       "      <th>0</th>\n",
       "      <th>0</th>\n",
       "      <th>0</th>\n",
       "      <th>0</th>\n",
       "    </tr>\n",
       "  </thead>\n",
       "  <tbody>\n",
       "    <tr>\n",
       "      <th>0</th>\n",
       "      <td>0</td>\n",
       "      <td>0</td>\n",
       "      <td>4</td>\n",
       "      <td>0</td>\n",
       "      <td>0</td>\n",
       "      <td>0</td>\n",
       "      <td>0</td>\n",
       "    </tr>\n",
       "    <tr>\n",
       "      <th>1</th>\n",
       "      <td>1</td>\n",
       "      <td>2</td>\n",
       "      <td>3</td>\n",
       "      <td>0</td>\n",
       "      <td>0</td>\n",
       "      <td>0</td>\n",
       "      <td>5</td>\n",
       "    </tr>\n",
       "    <tr>\n",
       "      <th>2</th>\n",
       "      <td>0</td>\n",
       "      <td>0</td>\n",
       "      <td>0</td>\n",
       "      <td>0</td>\n",
       "      <td>0</td>\n",
       "      <td>0</td>\n",
       "      <td>0</td>\n",
       "    </tr>\n",
       "    <tr>\n",
       "      <th>3</th>\n",
       "      <td>0</td>\n",
       "      <td>0</td>\n",
       "      <td>0</td>\n",
       "      <td>0</td>\n",
       "      <td>0</td>\n",
       "      <td>0</td>\n",
       "      <td>0</td>\n",
       "    </tr>\n",
       "    <tr>\n",
       "      <th>4</th>\n",
       "      <td>0</td>\n",
       "      <td>0</td>\n",
       "      <td>0</td>\n",
       "      <td>0</td>\n",
       "      <td>0</td>\n",
       "      <td>0</td>\n",
       "      <td>0</td>\n",
       "    </tr>\n",
       "    <tr>\n",
       "      <th>5</th>\n",
       "      <td>0</td>\n",
       "      <td>0</td>\n",
       "      <td>0</td>\n",
       "      <td>0</td>\n",
       "      <td>0</td>\n",
       "      <td>0</td>\n",
       "      <td>0</td>\n",
       "    </tr>\n",
       "    <tr>\n",
       "      <th>6</th>\n",
       "      <td>0</td>\n",
       "      <td>0</td>\n",
       "      <td>0</td>\n",
       "      <td>0</td>\n",
       "      <td>0</td>\n",
       "      <td>0</td>\n",
       "      <td>0</td>\n",
       "    </tr>\n",
       "    <tr>\n",
       "      <th>7</th>\n",
       "      <td>0</td>\n",
       "      <td>0</td>\n",
       "      <td>0</td>\n",
       "      <td>0</td>\n",
       "      <td>0</td>\n",
       "      <td>0</td>\n",
       "      <td>0</td>\n",
       "    </tr>\n",
       "    <tr>\n",
       "      <th>8</th>\n",
       "      <td>0</td>\n",
       "      <td>0</td>\n",
       "      <td>0</td>\n",
       "      <td>0</td>\n",
       "      <td>0</td>\n",
       "      <td>0</td>\n",
       "      <td>0</td>\n",
       "    </tr>\n",
       "    <tr>\n",
       "      <th>9</th>\n",
       "      <td>0</td>\n",
       "      <td>0</td>\n",
       "      <td>0</td>\n",
       "      <td>0</td>\n",
       "      <td>0</td>\n",
       "      <td>0</td>\n",
       "      <td>0</td>\n",
       "    </tr>\n",
       "  </tbody>\n",
       "</table>\n",
       "</div>"
      ],
      "text/plain": [
       "   0  0  0  0  0  0  0\n",
       "0  0  0  4  0  0  0  0\n",
       "1  1  2  3  0  0  0  5\n",
       "2  0  0  0  0  0  0  0\n",
       "3  0  0  0  0  0  0  0\n",
       "4  0  0  0  0  0  0  0\n",
       "5  0  0  0  0  0  0  0\n",
       "6  0  0  0  0  0  0  0\n",
       "7  0  0  0  0  0  0  0\n",
       "8  0  0  0  0  0  0  0\n",
       "9  0  0  0  0  0  0  0"
      ]
     },
     "metadata": {},
     "output_type": "display_data"
    }
   ],
   "source": [
    "sales = openpyxl.load_workbook(\"../data/icecream.xlsx\")\n",
    "sales = Table.from_openpyxl(sales['icecream']['A1':'G10'])\n",
    "sales.color(0, 1)\n",
    "sales.color(1, 1)\n",
    "sales.color(2, 1)\n",
    "sales.color(2, 0)\n",
    "sales.color(6, 1)\n",
    "display(sales)\n",
    "display(sales.color_df)"
   ]
  },
  {
   "cell_type": "code",
   "execution_count": 22,
   "metadata": {},
   "outputs": [
    {
     "data": {
      "text/html": [
       "<div>\n",
       "<style scoped>\n",
       "    .dataframe tbody tr th:only-of-type {\n",
       "        vertical-align: middle;\n",
       "    }\n",
       "\n",
       "    .dataframe tbody tr th {\n",
       "        vertical-align: top;\n",
       "    }\n",
       "\n",
       "    .dataframe thead th {\n",
       "        text-align: right;\n",
       "    }\n",
       "</style>\n",
       "<table border=\"1\" class=\"dataframe\">\n",
       "  <thead>\n",
       "    <tr style=\"text-align: right;\">\n",
       "      <th></th>\n",
       "      <th>Type</th>\n",
       "      <th>Country</th>\n",
       "      <th>June</th>\n",
       "      <th>July</th>\n",
       "      <th>August</th>\n",
       "      <th>Total</th>\n",
       "      <th>Profit</th>\n",
       "    </tr>\n",
       "  </thead>\n",
       "  <tbody>\n",
       "    <tr>\n",
       "      <th>0</th>\n",
       "      <td>Banana</td>\n",
       "      <td>BE</td>\n",
       "      <td>170</td>\n",
       "      <td>690</td>\n",
       "      <td>520</td>\n",
       "      <td>1380</td>\n",
       "      <td>YES</td>\n",
       "    </tr>\n",
       "    <tr>\n",
       "      <th>1</th>\n",
       "      <td></td>\n",
       "      <td>DE</td>\n",
       "      <td>610</td>\n",
       "      <td>640</td>\n",
       "      <td>320</td>\n",
       "      <td>1570</td>\n",
       "      <td>NO</td>\n",
       "    </tr>\n",
       "    <tr>\n",
       "      <th>2</th>\n",
       "      <td></td>\n",
       "      <td>DE</td>\n",
       "      <td>250</td>\n",
       "      <td>650</td>\n",
       "      <td>630</td>\n",
       "      <td>1530</td>\n",
       "      <td>YES</td>\n",
       "    </tr>\n",
       "    <tr>\n",
       "      <th>3</th>\n",
       "      <td>Chocolate</td>\n",
       "      <td>BE</td>\n",
       "      <td>560</td>\n",
       "      <td>320</td>\n",
       "      <td>140</td>\n",
       "      <td>1020</td>\n",
       "      <td>YES</td>\n",
       "    </tr>\n",
       "    <tr>\n",
       "      <th>4</th>\n",
       "      <td></td>\n",
       "      <td>FR</td>\n",
       "      <td>430</td>\n",
       "      <td>350</td>\n",
       "      <td>300</td>\n",
       "      <td>1080</td>\n",
       "      <td>YES</td>\n",
       "    </tr>\n",
       "    <tr>\n",
       "      <th>5</th>\n",
       "      <td></td>\n",
       "      <td></td>\n",
       "      <td></td>\n",
       "      <td></td>\n",
       "      <td></td>\n",
       "      <td></td>\n",
       "      <td></td>\n",
       "    </tr>\n",
       "    <tr>\n",
       "      <th>6</th>\n",
       "      <td></td>\n",
       "      <td>NL</td>\n",
       "      <td>210</td>\n",
       "      <td>280</td>\n",
       "      <td>270</td>\n",
       "      <td>760</td>\n",
       "      <td>NO</td>\n",
       "    </tr>\n",
       "    <tr>\n",
       "      <th>7</th>\n",
       "      <td>Speculaas</td>\n",
       "      <td>BE</td>\n",
       "      <td>300</td>\n",
       "      <td>270</td>\n",
       "      <td>290</td>\n",
       "      <td>860</td>\n",
       "      <td>NO</td>\n",
       "    </tr>\n",
       "    <tr>\n",
       "      <th>8</th>\n",
       "      <td>Vanilla</td>\n",
       "      <td>BE</td>\n",
       "      <td>610</td>\n",
       "      <td>190</td>\n",
       "      <td>670</td>\n",
       "      <td>1470</td>\n",
       "      <td>YES</td>\n",
       "    </tr>\n",
       "  </tbody>\n",
       "</table>\n",
       "</div>"
      ],
      "text/plain": [
       "0       Type Country June July August Total Profit\n",
       "0     Banana      BE  170  690    520  1380    YES\n",
       "1                 DE  610  640    320  1570     NO\n",
       "2                 DE  250  650    630  1530    YES\n",
       "3  Chocolate      BE  560  320    140  1020    YES\n",
       "4                 FR  430  350    300  1080    YES\n",
       "5                                                 \n",
       "6                 NL  210  280    270   760     NO\n",
       "7  Speculaas      BE  300  270    290   860     NO\n",
       "8    Vanilla      BE  610  190    670  1470    YES"
      ]
     },
     "metadata": {},
     "output_type": "display_data"
    },
    {
     "data": {
      "text/html": [
       "<div>\n",
       "<style scoped>\n",
       "    .dataframe tbody tr th:only-of-type {\n",
       "        vertical-align: middle;\n",
       "    }\n",
       "\n",
       "    .dataframe tbody tr th {\n",
       "        vertical-align: top;\n",
       "    }\n",
       "\n",
       "    .dataframe thead th {\n",
       "        text-align: right;\n",
       "    }\n",
       "</style>\n",
       "<table border=\"1\" class=\"dataframe\">\n",
       "  <thead>\n",
       "    <tr style=\"text-align: right;\">\n",
       "      <th></th>\n",
       "      <th>0</th>\n",
       "      <th>0</th>\n",
       "      <th>4</th>\n",
       "      <th>0</th>\n",
       "      <th>0</th>\n",
       "      <th>0</th>\n",
       "      <th>0</th>\n",
       "    </tr>\n",
       "  </thead>\n",
       "  <tbody>\n",
       "    <tr>\n",
       "      <th>0</th>\n",
       "      <td>1</td>\n",
       "      <td>2</td>\n",
       "      <td>3</td>\n",
       "      <td>0</td>\n",
       "      <td>0</td>\n",
       "      <td>0</td>\n",
       "      <td>5</td>\n",
       "    </tr>\n",
       "    <tr>\n",
       "      <th>1</th>\n",
       "      <td>0</td>\n",
       "      <td>0</td>\n",
       "      <td>0</td>\n",
       "      <td>0</td>\n",
       "      <td>0</td>\n",
       "      <td>0</td>\n",
       "      <td>0</td>\n",
       "    </tr>\n",
       "    <tr>\n",
       "      <th>2</th>\n",
       "      <td>0</td>\n",
       "      <td>0</td>\n",
       "      <td>0</td>\n",
       "      <td>0</td>\n",
       "      <td>0</td>\n",
       "      <td>0</td>\n",
       "      <td>0</td>\n",
       "    </tr>\n",
       "    <tr>\n",
       "      <th>3</th>\n",
       "      <td>0</td>\n",
       "      <td>0</td>\n",
       "      <td>0</td>\n",
       "      <td>0</td>\n",
       "      <td>0</td>\n",
       "      <td>0</td>\n",
       "      <td>0</td>\n",
       "    </tr>\n",
       "    <tr>\n",
       "      <th>4</th>\n",
       "      <td>0</td>\n",
       "      <td>0</td>\n",
       "      <td>0</td>\n",
       "      <td>0</td>\n",
       "      <td>0</td>\n",
       "      <td>0</td>\n",
       "      <td>0</td>\n",
       "    </tr>\n",
       "    <tr>\n",
       "      <th>5</th>\n",
       "      <td>0</td>\n",
       "      <td>0</td>\n",
       "      <td>0</td>\n",
       "      <td>0</td>\n",
       "      <td>0</td>\n",
       "      <td>0</td>\n",
       "      <td>0</td>\n",
       "    </tr>\n",
       "    <tr>\n",
       "      <th>6</th>\n",
       "      <td>0</td>\n",
       "      <td>0</td>\n",
       "      <td>0</td>\n",
       "      <td>0</td>\n",
       "      <td>0</td>\n",
       "      <td>0</td>\n",
       "      <td>0</td>\n",
       "    </tr>\n",
       "    <tr>\n",
       "      <th>7</th>\n",
       "      <td>0</td>\n",
       "      <td>0</td>\n",
       "      <td>0</td>\n",
       "      <td>0</td>\n",
       "      <td>0</td>\n",
       "      <td>0</td>\n",
       "      <td>0</td>\n",
       "    </tr>\n",
       "    <tr>\n",
       "      <th>8</th>\n",
       "      <td>0</td>\n",
       "      <td>0</td>\n",
       "      <td>0</td>\n",
       "      <td>0</td>\n",
       "      <td>0</td>\n",
       "      <td>0</td>\n",
       "      <td>0</td>\n",
       "    </tr>\n",
       "  </tbody>\n",
       "</table>\n",
       "</div>"
      ],
      "text/plain": [
       "   0  0  4  0  0  0  0\n",
       "0  1  2  3  0  0  0  5\n",
       "1  0  0  0  0  0  0  0\n",
       "2  0  0  0  0  0  0  0\n",
       "3  0  0  0  0  0  0  0\n",
       "4  0  0  0  0  0  0  0\n",
       "5  0  0  0  0  0  0  0\n",
       "6  0  0  0  0  0  0  0\n",
       "7  0  0  0  0  0  0  0\n",
       "8  0  0  0  0  0  0  0"
      ]
     },
     "metadata": {},
     "output_type": "display_data"
    }
   ],
   "source": [
    "sales_header = Header(1)(sales)\n",
    "display(sales_header.df)\n",
    "display(sales_header.color_df)"
   ]
  },
  {
   "cell_type": "code",
   "execution_count": 13,
   "metadata": {},
   "outputs": [
    {
     "data": {
      "text/plain": [
       "0.8428571428571429"
      ]
     },
     "execution_count": 13,
     "metadata": {},
     "output_type": "execute_result"
    }
   ],
   "source": [
    "AggregatedHeuristic(EmptyColumnHeuristic())(sales)"
   ]
  },
  {
   "cell_type": "code",
   "execution_count": 12,
   "metadata": {},
   "outputs": [
    {
     "data": {
      "text/plain": [
       "0.8603174603174605"
      ]
     },
     "execution_count": 12,
     "metadata": {},
     "output_type": "execute_result"
    }
   ],
   "source": [
    "AggregatedHeuristic(ValueColumnHeuristic())(sales)"
   ]
  },
  {
   "cell_type": "code",
   "execution_count": 36,
   "metadata": {},
   "outputs": [
    {
     "data": {
      "text/plain": [
       "1.0"
      ]
     },
     "execution_count": 36,
     "metadata": {},
     "output_type": "execute_result"
    }
   ],
   "source": [
    "ColorRowHeuristic()(final)"
   ]
  },
  {
   "cell_type": "code",
   "execution_count": 42,
   "metadata": {},
   "outputs": [],
   "source": [
    "heuristic = WeightedHeuristic(\r\n",
    "    [\r\n",
    "        EmptyHeuristic(),\r\n",
    "        AggregatedHeuristic(ValueColumnHeuristic()),\r\n",
    "        ColorRowHeuristic(),\r\n",
    "    ],\r\n",
    ")"
   ]
  },
  {
   "cell_type": "code",
   "execution_count": 37,
   "metadata": {},
   "outputs": [
    {
     "name": "stdout",
     "output_type": "stream",
     "text": [
      "<synthasizer.heuristics.EmptyHeuristic object at 0x000002A42029BC10> 1.0\n",
      "AggregatedHeuristic(ValueColumnHeuristic()) 1.0\n",
      "<synthasizer.heuristics.ColorRowHeuristic object at 0x000002A42029B7F0> 1.0\n"
     ]
    },
    {
     "data": {
      "text/plain": [
       "1.0"
      ]
     },
     "execution_count": 37,
     "metadata": {},
     "output_type": "execute_result"
    }
   ],
   "source": [
    "heuristic(final)"
   ]
  },
  {
   "cell_type": "code",
   "execution_count": 38,
   "metadata": {},
   "outputs": [
    {
     "data": {
      "text/plain": [
       "           0   1    2    3    4     5    6\n",
       "0     Banana  BE  170  690  520  1380  YES\n",
       "1             DE  610  640  320  1570   NO\n",
       "2             DE  250  650  630  1530  YES\n",
       "3  Chocolate  BE  560  320  140  1020  YES\n",
       "4             FR  430  350  300  1080  YES\n",
       "5             NL  210  280  270   760   NO\n",
       "6  Speculaas  BE  300  270  290   860   NO\n",
       "7    Vanilla  BE  610  190  670  1470  YES"
      ]
     },
     "execution_count": 38,
     "metadata": {},
     "output_type": "execute_result"
    }
   ],
   "source": [
    "d2 = Delete(6, EmptyCondition())(\n",
    "        Delete(4, StyleCondition('bold', True))(sales)\n",
    "     )\n",
    "d2"
   ]
  },
  {
   "cell_type": "code",
   "execution_count": 42,
   "metadata": {},
   "outputs": [
    {
     "data": {
      "text/plain": [
       "1"
      ]
     },
     "execution_count": 42,
     "metadata": {},
     "output_type": "execute_result"
    }
   ],
   "source": [
    "error(d2)"
   ]
  },
  {
   "cell_type": "code",
   "execution_count": 27,
   "metadata": {},
   "outputs": [
    {
     "data": {
      "text/plain": [
       "         Type Country Profit variable value\n",
       "0      Banana      BE    YES     June   170\n",
       "1      Banana      DE     NO     June   610\n",
       "2      Banana      DE    YES     June   250\n",
       "3   Chocolate      BE    YES     June   560\n",
       "4   Chocolate      FR    YES     June   430\n",
       "5   Chocolate      NL     NO     June   210\n",
       "6   Speculaas      BE     NO     June   300\n",
       "7     Vanilla      BE    YES     June   610\n",
       "8      Banana      BE    YES     July   690\n",
       "9      Banana      DE     NO     July   640\n",
       "10     Banana      DE    YES     July   650\n",
       "11  Chocolate      BE    YES     July   320\n",
       "12  Chocolate      FR    YES     July   350\n",
       "13  Chocolate      NL     NO     July   280\n",
       "14  Speculaas      BE     NO     July   270\n",
       "15    Vanilla      BE    YES     July   190\n",
       "16     Banana      BE    YES   August   520\n",
       "17     Banana      DE     NO   August   320\n",
       "18     Banana      DE    YES   August   630\n",
       "19  Chocolate      BE    YES   August   140\n",
       "20  Chocolate      FR    YES   August   300\n",
       "21  Chocolate      NL     NO   August   270\n",
       "22  Speculaas      BE     NO   August   290\n",
       "23    Vanilla      BE    YES   August   670\n",
       "24     Banana      BE    YES    Total  1380\n",
       "25     Banana      DE     NO    Total  1570\n",
       "26     Banana      DE    YES    Total  1530\n",
       "27  Chocolate      BE    YES    Total  1020\n",
       "28  Chocolate      FR    YES    Total  1080\n",
       "29  Chocolate      NL     NO    Total   760\n",
       "30  Speculaas      BE     NO    Total   860\n",
       "31    Vanilla      BE    YES    Total  1470"
      ]
     },
     "execution_count": 27,
     "metadata": {},
     "output_type": "execute_result"
    }
   ],
   "source": [
    "final = Fold(2,5)(Delete(6, EmptyCondition())(Fill(0)(Header(1)(sales))))\r\n",
    "final"
   ]
  },
  {
   "cell_type": "code",
   "execution_count": 28,
   "metadata": {},
   "outputs": [
    {
     "data": {
      "text/plain": [
       "array([1., 1., 1., 1., 1.])"
      ]
     },
     "execution_count": 28,
     "metadata": {},
     "output_type": "execute_result"
    }
   ],
   "source": [
    "ValueColumnHeuristic()(final)"
   ]
  },
  {
   "cell_type": "markdown",
   "metadata": {},
   "source": [
    "## Nurse"
   ]
  },
  {
   "cell_type": "code",
   "execution_count": 52,
   "metadata": {},
   "outputs": [],
   "source": [
    "nurse = detect(openpyxl.load_workbook(\"../data/nurse.xlsx\")[\"Sheet1\"])[0]"
   ]
  },
  {
   "cell_type": "code",
   "execution_count": 53,
   "metadata": {},
   "outputs": [
    {
     "data": {
      "text/html": [
       "<div>\n",
       "<style scoped>\n",
       "    .dataframe tbody tr th:only-of-type {\n",
       "        vertical-align: middle;\n",
       "    }\n",
       "\n",
       "    .dataframe tbody tr th {\n",
       "        vertical-align: top;\n",
       "    }\n",
       "\n",
       "    .dataframe thead th {\n",
       "        text-align: right;\n",
       "    }\n",
       "</style>\n",
       "<table border=\"1\" class=\"dataframe\">\n",
       "  <thead>\n",
       "    <tr style=\"text-align: right;\">\n",
       "      <th></th>\n",
       "      <th></th>\n",
       "      <th></th>\n",
       "      <th>M</th>\n",
       "      <th>A</th>\n",
       "      <th>N</th>\n",
       "    </tr>\n",
       "  </thead>\n",
       "  <tbody>\n",
       "    <tr>\n",
       "      <th>0</th>\n",
       "      <td></td>\n",
       "      <td>Mon</td>\n",
       "      <td></td>\n",
       "      <td></td>\n",
       "      <td></td>\n",
       "    </tr>\n",
       "    <tr>\n",
       "      <th>1</th>\n",
       "      <td>Emma</td>\n",
       "      <td></td>\n",
       "      <td>1</td>\n",
       "      <td>0</td>\n",
       "      <td>0</td>\n",
       "    </tr>\n",
       "    <tr>\n",
       "      <th>2</th>\n",
       "      <td>Lucas</td>\n",
       "      <td></td>\n",
       "      <td>0</td>\n",
       "      <td>1</td>\n",
       "      <td>0</td>\n",
       "    </tr>\n",
       "    <tr>\n",
       "      <th>3</th>\n",
       "      <td>Noah</td>\n",
       "      <td></td>\n",
       "      <td>0</td>\n",
       "      <td>0</td>\n",
       "      <td>1</td>\n",
       "    </tr>\n",
       "    <tr>\n",
       "      <th>4</th>\n",
       "      <td>Alice</td>\n",
       "      <td></td>\n",
       "      <td>0</td>\n",
       "      <td>0</td>\n",
       "      <td>0</td>\n",
       "    </tr>\n",
       "    <tr>\n",
       "      <th>...</th>\n",
       "      <td>...</td>\n",
       "      <td>...</td>\n",
       "      <td>...</td>\n",
       "      <td>...</td>\n",
       "      <td>...</td>\n",
       "    </tr>\n",
       "    <tr>\n",
       "      <th>86</th>\n",
       "      <td>Ruben</td>\n",
       "      <td></td>\n",
       "      <td>0</td>\n",
       "      <td>0</td>\n",
       "      <td>0</td>\n",
       "    </tr>\n",
       "    <tr>\n",
       "      <th>87</th>\n",
       "      <td>Ella</td>\n",
       "      <td></td>\n",
       "      <td>0</td>\n",
       "      <td>0</td>\n",
       "      <td>0</td>\n",
       "    </tr>\n",
       "    <tr>\n",
       "      <th>88</th>\n",
       "      <td>Stan</td>\n",
       "      <td></td>\n",
       "      <td>1</td>\n",
       "      <td>0</td>\n",
       "      <td>0</td>\n",
       "    </tr>\n",
       "    <tr>\n",
       "      <th>89</th>\n",
       "      <td>Nora</td>\n",
       "      <td></td>\n",
       "      <td>0</td>\n",
       "      <td>1</td>\n",
       "      <td>0</td>\n",
       "    </tr>\n",
       "    <tr>\n",
       "      <th>90</th>\n",
       "      <td>Anna</td>\n",
       "      <td></td>\n",
       "      <td>0</td>\n",
       "      <td>0</td>\n",
       "      <td>1</td>\n",
       "    </tr>\n",
       "  </tbody>\n",
       "</table>\n",
       "<p>91 rows × 5 columns</p>\n",
       "</div>"
      ],
      "text/plain": [
       "0               M  A  N\n",
       "0          Mon         \n",
       "1    Emma       1  0  0\n",
       "2   Lucas       0  1  0\n",
       "3    Noah       0  0  1\n",
       "4   Alice       0  0  0\n",
       "..    ...  ... .. .. ..\n",
       "86  Ruben       0  0  0\n",
       "87   Ella       0  0  0\n",
       "88   Stan       1  0  0\n",
       "89   Nora       0  1  0\n",
       "90   Anna       0  0  1\n",
       "\n",
       "[91 rows x 5 columns]"
      ]
     },
     "execution_count": 53,
     "metadata": {},
     "output_type": "execute_result"
    }
   ],
   "source": [
    "transformed = Stack(1, 29, 4)(Header(1)(nurse))\r\n",
    "transformed.df"
   ]
  },
  {
   "cell_type": "code",
   "execution_count": 54,
   "metadata": {},
   "outputs": [
    {
     "data": {
      "text/plain": [
       "0.7192118226600985"
      ]
     },
     "execution_count": 54,
     "metadata": {},
     "output_type": "execute_result"
    }
   ],
   "source": [
    "EmptyHeuristic()(nurse)"
   ]
  },
  {
   "cell_type": "code",
   "execution_count": 55,
   "metadata": {},
   "outputs": [
    {
     "data": {
      "text/plain": [
       "0.7538461538461538"
      ]
     },
     "execution_count": 55,
     "metadata": {},
     "output_type": "execute_result"
    }
   ],
   "source": [
    "EmptyHeuristic()(transformed)"
   ]
  },
  {
   "cell_type": "code",
   "execution_count": 56,
   "metadata": {},
   "outputs": [],
   "source": [
    "# initialise heuristic\r\n",
    "heuristic = WeightedHeuristic(\r\n",
    "    [\r\n",
    "        EmptyHeuristic(),\r\n",
    "        AggregatedHeuristic(ValueColumnHeuristic()),\r\n",
    "        ColorRowHeuristic(),\r\n",
    "    ],\r\n",
    ")"
   ]
  },
  {
   "cell_type": "code",
   "execution_count": 57,
   "metadata": {},
   "outputs": [
    {
     "data": {
      "text/plain": [
       "0.8878363016294051"
      ]
     },
     "execution_count": 57,
     "metadata": {},
     "output_type": "execute_result"
    }
   ],
   "source": [
    "heuristic(nurse)"
   ]
  },
  {
   "cell_type": "code",
   "execution_count": 58,
   "metadata": {},
   "outputs": [
    {
     "data": {
      "text/plain": [
       "0.9179487179487178"
      ]
     },
     "execution_count": 58,
     "metadata": {},
     "output_type": "execute_result"
    }
   ],
   "source": [
    "heuristic(transformed)"
   ]
  },
  {
   "cell_type": "code",
   "execution_count": 64,
   "metadata": {},
   "outputs": [
    {
     "name": "stdout",
     "output_type": "stream",
     "text": [
      "Counter({Cell('M'): 6, Cell('A'): 6, Cell('N'): 6})\n",
      "{Cell('Jules'), Cell('Noah'), Cell('Gabriel'), Cell('Lucas'), Cell('Stan'), Cell('Fri'), Cell('N'), Cell('Ruben'), Cell('Anna'), Cell('M'), Cell('Ella'), Cell(1), Cell('Thu'), Cell('Emma'), Cell('Tue'), Cell('Mon'), Cell('Jonas'), Cell('A'), Cell('Sat'), Cell(0), Cell('Wed'), Cell('Alice'), Cell('Nora'), Cell('Sun')}\n"
     ]
    },
    {
     "data": {
      "text/plain": [
       "0.0"
      ]
     },
     "execution_count": 64,
     "metadata": {},
     "output_type": "execute_result"
    }
   ],
   "source": [
    "error = ContentReconstructionError()\r\n",
    "error.initialise(nurse)\r\n",
    "error(transformed)"
   ]
  },
  {
   "cell_type": "code",
   "execution_count": null,
   "metadata": {},
   "outputs": [],
   "source": []
  }
 ],
 "metadata": {
  "interpreter": {
   "hash": "5a7bf517d1db13cfe7af313b786612ecdd2eb920b6e429ca6f332d19c4800d9b"
  },
  "kernelspec": {
   "display_name": "Python 3.9.5 64-bit ('synthasizer-llFb8Gxw': pipenv)",
   "name": "python3"
  },
  "language_info": {
   "name": "python",
   "version": ""
  }
 },
 "nbformat": 4,
 "nbformat_minor": 4
}