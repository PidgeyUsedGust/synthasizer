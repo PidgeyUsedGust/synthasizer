{
 "metadata": {
  "language_info": {
   "codemirror_mode": {
    "name": "ipython",
    "version": 3
   },
   "file_extension": ".py",
   "mimetype": "text/x-python",
   "name": "python",
   "nbconvert_exporter": "python",
   "pygments_lexer": "ipython3",
   "version": "3.9.5"
  },
  "orig_nbformat": 2,
  "kernelspec": {
   "name": "python395jvsc74a57bd05a7bf517d1db13cfe7af313b786612ecdd2eb920b6e429ca6f332d19c4800d9b",
   "display_name": "Python 3.9.5 64-bit ('synthasizer-llFb8Gxw': pipenv)"
  }
 },
 "nbformat": 4,
 "nbformat_minor": 2,
 "cells": [
  {
   "cell_type": "code",
   "execution_count": 13,
   "metadata": {},
   "outputs": [],
   "source": [
    "%reload_ext autoreload\n",
    "%autoreload 2\n",
    "\n",
    "import openpyxl\n",
    "import pandas as pd\n",
    "import numpy as np\n",
    "\n",
    "from synthasizer.table import Table, Cell\n",
    "from synthasizer.transformations import *\n",
    "from synthasizer.error import *"
   ]
  },
  {
   "cell_type": "code",
   "execution_count": 5,
   "metadata": {},
   "outputs": [
    {
     "output_type": "execute_result",
     "data": {
      "text/plain": [
       "           0        1     2     3       4      5       6\n",
       "0       Type  Country  June  July  August  Total  Profit\n",
       "1     Banana       BE   170   690     520   1380     YES\n",
       "2       None       DE   610   640     320   1570      NO\n",
       "3       None       DE   250   650     630   1530     YES\n",
       "4  Chocolate       BE   560   320     140   1020     YES\n",
       "5       None       FR   430   350     300   1080     YES\n",
       "6       None     None  None  None    None   None    None\n",
       "7       None       NL   210   280     270    760      NO\n",
       "8  Speculaas       BE   300   270     290    860      NO\n",
       "9    Vanilla       BE   610   190     670   1470     YES"
      ],
      "text/html": "<div>\n<style scoped>\n    .dataframe tbody tr th:only-of-type {\n        vertical-align: middle;\n    }\n\n    .dataframe tbody tr th {\n        vertical-align: top;\n    }\n\n    .dataframe thead th {\n        text-align: right;\n    }\n</style>\n<table border=\"1\" class=\"dataframe\">\n  <thead>\n    <tr style=\"text-align: right;\">\n      <th></th>\n      <th>0</th>\n      <th>1</th>\n      <th>2</th>\n      <th>3</th>\n      <th>4</th>\n      <th>5</th>\n      <th>6</th>\n    </tr>\n  </thead>\n  <tbody>\n    <tr>\n      <th>0</th>\n      <td>Type</td>\n      <td>Country</td>\n      <td>June</td>\n      <td>July</td>\n      <td>August</td>\n      <td>Total</td>\n      <td>Profit</td>\n    </tr>\n    <tr>\n      <th>1</th>\n      <td>Banana</td>\n      <td>BE</td>\n      <td>170</td>\n      <td>690</td>\n      <td>520</td>\n      <td>1380</td>\n      <td>YES</td>\n    </tr>\n    <tr>\n      <th>2</th>\n      <td>None</td>\n      <td>DE</td>\n      <td>610</td>\n      <td>640</td>\n      <td>320</td>\n      <td>1570</td>\n      <td>NO</td>\n    </tr>\n    <tr>\n      <th>3</th>\n      <td>None</td>\n      <td>DE</td>\n      <td>250</td>\n      <td>650</td>\n      <td>630</td>\n      <td>1530</td>\n      <td>YES</td>\n    </tr>\n    <tr>\n      <th>4</th>\n      <td>Chocolate</td>\n      <td>BE</td>\n      <td>560</td>\n      <td>320</td>\n      <td>140</td>\n      <td>1020</td>\n      <td>YES</td>\n    </tr>\n    <tr>\n      <th>5</th>\n      <td>None</td>\n      <td>FR</td>\n      <td>430</td>\n      <td>350</td>\n      <td>300</td>\n      <td>1080</td>\n      <td>YES</td>\n    </tr>\n    <tr>\n      <th>6</th>\n      <td>None</td>\n      <td>None</td>\n      <td>None</td>\n      <td>None</td>\n      <td>None</td>\n      <td>None</td>\n      <td>None</td>\n    </tr>\n    <tr>\n      <th>7</th>\n      <td>None</td>\n      <td>NL</td>\n      <td>210</td>\n      <td>280</td>\n      <td>270</td>\n      <td>760</td>\n      <td>NO</td>\n    </tr>\n    <tr>\n      <th>8</th>\n      <td>Speculaas</td>\n      <td>BE</td>\n      <td>300</td>\n      <td>270</td>\n      <td>290</td>\n      <td>860</td>\n      <td>NO</td>\n    </tr>\n    <tr>\n      <th>9</th>\n      <td>Vanilla</td>\n      <td>BE</td>\n      <td>610</td>\n      <td>190</td>\n      <td>670</td>\n      <td>1470</td>\n      <td>YES</td>\n    </tr>\n  </tbody>\n</table>\n</div>"
     },
     "metadata": {},
     "execution_count": 5
    }
   ],
   "source": [
    "before = openpyxl.load_workbook(\"../data/icecream.xlsx\")\n",
    "before = Table.from_openpyxl(before['icecream']['A1':'G10'])\n",
    "before.df"
   ]
  },
  {
   "cell_type": "code",
   "execution_count": 33,
   "metadata": {},
   "outputs": [
    {
     "output_type": "execute_result",
     "data": {
      "text/plain": [
       "           0        1     2     3       4      5       6\n",
       "0       Type  Country  June  July  August  Total  Profit\n",
       "1     Banana       BE   170   690     520   1380     YES\n",
       "2                  DE   610   640     320   1570      NO\n",
       "3                  DE   250   650     630   1530     YES\n",
       "4  Chocolate       BE   560   320     140   1020     YES\n",
       "5                  FR   430   350     300   1080     YES\n",
       "7                  NL   210   280     270    760      NO\n",
       "8  Speculaas       BE   300   270     290    860      NO\n",
       "9    Vanilla       BE   610   190     670   1470     YES"
      ],
      "text/html": "<div>\n<style scoped>\n    .dataframe tbody tr th:only-of-type {\n        vertical-align: middle;\n    }\n\n    .dataframe tbody tr th {\n        vertical-align: top;\n    }\n\n    .dataframe thead th {\n        text-align: right;\n    }\n</style>\n<table border=\"1\" class=\"dataframe\">\n  <thead>\n    <tr style=\"text-align: right;\">\n      <th></th>\n      <th>0</th>\n      <th>1</th>\n      <th>2</th>\n      <th>3</th>\n      <th>4</th>\n      <th>5</th>\n      <th>6</th>\n    </tr>\n  </thead>\n  <tbody>\n    <tr>\n      <th>0</th>\n      <td>Type</td>\n      <td>Country</td>\n      <td>June</td>\n      <td>July</td>\n      <td>August</td>\n      <td>Total</td>\n      <td>Profit</td>\n    </tr>\n    <tr>\n      <th>1</th>\n      <td>Banana</td>\n      <td>BE</td>\n      <td>170</td>\n      <td>690</td>\n      <td>520</td>\n      <td>1380</td>\n      <td>YES</td>\n    </tr>\n    <tr>\n      <th>2</th>\n      <td></td>\n      <td>DE</td>\n      <td>610</td>\n      <td>640</td>\n      <td>320</td>\n      <td>1570</td>\n      <td>NO</td>\n    </tr>\n    <tr>\n      <th>3</th>\n      <td></td>\n      <td>DE</td>\n      <td>250</td>\n      <td>650</td>\n      <td>630</td>\n      <td>1530</td>\n      <td>YES</td>\n    </tr>\n    <tr>\n      <th>4</th>\n      <td>Chocolate</td>\n      <td>BE</td>\n      <td>560</td>\n      <td>320</td>\n      <td>140</td>\n      <td>1020</td>\n      <td>YES</td>\n    </tr>\n    <tr>\n      <th>5</th>\n      <td></td>\n      <td>FR</td>\n      <td>430</td>\n      <td>350</td>\n      <td>300</td>\n      <td>1080</td>\n      <td>YES</td>\n    </tr>\n    <tr>\n      <th>7</th>\n      <td></td>\n      <td>NL</td>\n      <td>210</td>\n      <td>280</td>\n      <td>270</td>\n      <td>760</td>\n      <td>NO</td>\n    </tr>\n    <tr>\n      <th>8</th>\n      <td>Speculaas</td>\n      <td>BE</td>\n      <td>300</td>\n      <td>270</td>\n      <td>290</td>\n      <td>860</td>\n      <td>NO</td>\n    </tr>\n    <tr>\n      <th>9</th>\n      <td>Vanilla</td>\n      <td>BE</td>\n      <td>610</td>\n      <td>190</td>\n      <td>670</td>\n      <td>1470</td>\n      <td>YES</td>\n    </tr>\n  </tbody>\n</table>\n</div>"
     },
     "metadata": {},
     "execution_count": 33
    }
   ],
   "source": [
    "after = Delete(1, EmptyCondition())(before)\n",
    "after.df"
   ]
  },
  {
   "cell_type": "code",
   "execution_count": 34,
   "metadata": {},
   "outputs": [
    {
     "output_type": "execute_result",
     "data": {
      "text/plain": [
       "           0        1     2     3       4      5       6\n",
       "0       Type  Country  June  July  August  Total  Profit\n",
       "1     Banana       BE   170   690     520   1380     YES\n",
       "4  Chocolate       BE   560   320     140   1020     YES\n",
       "8  Speculaas       BE   300   270     290    860      NO\n",
       "9    Vanilla       BE   610   190     670   1470     YES"
      ],
      "text/html": "<div>\n<style scoped>\n    .dataframe tbody tr th:only-of-type {\n        vertical-align: middle;\n    }\n\n    .dataframe tbody tr th {\n        vertical-align: top;\n    }\n\n    .dataframe thead th {\n        text-align: right;\n    }\n</style>\n<table border=\"1\" class=\"dataframe\">\n  <thead>\n    <tr style=\"text-align: right;\">\n      <th></th>\n      <th>0</th>\n      <th>1</th>\n      <th>2</th>\n      <th>3</th>\n      <th>4</th>\n      <th>5</th>\n      <th>6</th>\n    </tr>\n  </thead>\n  <tbody>\n    <tr>\n      <th>0</th>\n      <td>Type</td>\n      <td>Country</td>\n      <td>June</td>\n      <td>July</td>\n      <td>August</td>\n      <td>Total</td>\n      <td>Profit</td>\n    </tr>\n    <tr>\n      <th>1</th>\n      <td>Banana</td>\n      <td>BE</td>\n      <td>170</td>\n      <td>690</td>\n      <td>520</td>\n      <td>1380</td>\n      <td>YES</td>\n    </tr>\n    <tr>\n      <th>4</th>\n      <td>Chocolate</td>\n      <td>BE</td>\n      <td>560</td>\n      <td>320</td>\n      <td>140</td>\n      <td>1020</td>\n      <td>YES</td>\n    </tr>\n    <tr>\n      <th>8</th>\n      <td>Speculaas</td>\n      <td>BE</td>\n      <td>300</td>\n      <td>270</td>\n      <td>290</td>\n      <td>860</td>\n      <td>NO</td>\n    </tr>\n    <tr>\n      <th>9</th>\n      <td>Vanilla</td>\n      <td>BE</td>\n      <td>610</td>\n      <td>190</td>\n      <td>670</td>\n      <td>1470</td>\n      <td>YES</td>\n    </tr>\n  </tbody>\n</table>\n</div>"
     },
     "metadata": {},
     "execution_count": 34
    }
   ],
   "source": [
    "bad = Delete(0, EmptyCondition())(before)\n",
    "bad.df"
   ]
  },
  {
   "cell_type": "code",
   "execution_count": 35,
   "metadata": {},
   "outputs": [],
   "source": [
    "error = ReconstructionError(before)"
   ]
  },
  {
   "cell_type": "code",
   "execution_count": 45,
   "metadata": {},
   "outputs": [
    {
     "output_type": "execute_result",
     "data": {
      "text/plain": [
       "0.0"
      ]
     },
     "metadata": {},
     "execution_count": 45
    }
   ],
   "source": [
    "error.compute(after)"
   ]
  },
  {
   "cell_type": "code",
   "execution_count": 46,
   "metadata": {},
   "outputs": [
    {
     "output_type": "execute_result",
     "data": {
      "text/plain": [
       "14.685714285714289"
      ]
     },
     "metadata": {},
     "execution_count": 46
    }
   ],
   "source": [
    "error.compute(bad)"
   ]
  },
  {
   "cell_type": "code",
   "execution_count": null,
   "metadata": {},
   "outputs": [],
   "source": []
  }
 ]
}