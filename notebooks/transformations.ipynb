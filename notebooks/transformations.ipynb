{
 "cells": [
  {
   "cell_type": "markdown",
   "metadata": {},
   "source": [
    "# transformations\n",
    "\n",
    "Test of all transformations."
   ]
  },
  {
   "cell_type": "code",
   "execution_count": 1,
   "metadata": {},
   "outputs": [],
   "source": [
    "%reload_ext autoreload\n",
    "%autoreload 2\n",
    "\n",
    "import openpyxl\n",
    "import pandas as pd\n",
    "import numpy as np\n",
    "\n",
    "from synthasizer.table import Table, Cell, detect\n",
    "from synthasizer.transformations import *\n",
    "from synthasizer.conditions import *"
   ]
  },
  {
   "cell_type": "code",
   "execution_count": 2,
   "metadata": {},
   "outputs": [
    {
     "output_type": "execute_result",
     "data": {
      "text/plain": [
       "           0        1     2     3       4      5       6\n",
       "0       Type  Country  June  July  August  Total  Profit\n",
       "1     Banana       BE   170   690     520   1380     YES\n",
       "2                  DE   610   640     320   1570      NO\n",
       "3                  DE   250   650     630   1530     YES\n",
       "4  Chocolate       BE   560   320     140   1020     YES\n",
       "5                  FR   430   350     300   1080     YES\n",
       "6                                                       \n",
       "7                  NL   210   280     270    760      NO\n",
       "8  Speculaas       BE   300   270     290    860      NO\n",
       "9    Vanilla       BE   610   190     670   1470     YES"
      ],
      "text/html": "<div>\n<style scoped>\n    .dataframe tbody tr th:only-of-type {\n        vertical-align: middle;\n    }\n\n    .dataframe tbody tr th {\n        vertical-align: top;\n    }\n\n    .dataframe thead th {\n        text-align: right;\n    }\n</style>\n<table border=\"1\" class=\"dataframe\">\n  <thead>\n    <tr style=\"text-align: right;\">\n      <th></th>\n      <th>0</th>\n      <th>1</th>\n      <th>2</th>\n      <th>3</th>\n      <th>4</th>\n      <th>5</th>\n      <th>6</th>\n    </tr>\n  </thead>\n  <tbody>\n    <tr>\n      <th>0</th>\n      <td>Type</td>\n      <td>Country</td>\n      <td>June</td>\n      <td>July</td>\n      <td>August</td>\n      <td>Total</td>\n      <td>Profit</td>\n    </tr>\n    <tr>\n      <th>1</th>\n      <td>Banana</td>\n      <td>BE</td>\n      <td>170</td>\n      <td>690</td>\n      <td>520</td>\n      <td>1380</td>\n      <td>YES</td>\n    </tr>\n    <tr>\n      <th>2</th>\n      <td></td>\n      <td>DE</td>\n      <td>610</td>\n      <td>640</td>\n      <td>320</td>\n      <td>1570</td>\n      <td>NO</td>\n    </tr>\n    <tr>\n      <th>3</th>\n      <td></td>\n      <td>DE</td>\n      <td>250</td>\n      <td>650</td>\n      <td>630</td>\n      <td>1530</td>\n      <td>YES</td>\n    </tr>\n    <tr>\n      <th>4</th>\n      <td>Chocolate</td>\n      <td>BE</td>\n      <td>560</td>\n      <td>320</td>\n      <td>140</td>\n      <td>1020</td>\n      <td>YES</td>\n    </tr>\n    <tr>\n      <th>5</th>\n      <td></td>\n      <td>FR</td>\n      <td>430</td>\n      <td>350</td>\n      <td>300</td>\n      <td>1080</td>\n      <td>YES</td>\n    </tr>\n    <tr>\n      <th>6</th>\n      <td></td>\n      <td></td>\n      <td></td>\n      <td></td>\n      <td></td>\n      <td></td>\n      <td></td>\n    </tr>\n    <tr>\n      <th>7</th>\n      <td></td>\n      <td>NL</td>\n      <td>210</td>\n      <td>280</td>\n      <td>270</td>\n      <td>760</td>\n      <td>NO</td>\n    </tr>\n    <tr>\n      <th>8</th>\n      <td>Speculaas</td>\n      <td>BE</td>\n      <td>300</td>\n      <td>270</td>\n      <td>290</td>\n      <td>860</td>\n      <td>NO</td>\n    </tr>\n    <tr>\n      <th>9</th>\n      <td>Vanilla</td>\n      <td>BE</td>\n      <td>610</td>\n      <td>190</td>\n      <td>670</td>\n      <td>1470</td>\n      <td>YES</td>\n    </tr>\n  </tbody>\n</table>\n</div>"
     },
     "metadata": {},
     "execution_count": 2
    }
   ],
   "source": [
    "icecream = detect(\n",
    "    openpyxl.load_workbook(\"../data/icecream.xlsx\")['icecream']\n",
    ")[0]\n",
    "icecream.df"
   ]
  },
  {
   "cell_type": "code",
   "execution_count": 132,
   "metadata": {},
   "outputs": [
    {
     "output_type": "display_data",
     "data": {
      "text/plain": "           0        1     2     3       4      5       6\n0       Type  Country  June  July  August  Total  Profit\n1     Banana       BE   170   690     520   1380     YES\n2                  DE   610   640     320   1570      NO\n3                  DE   250   650     630   1530     YES\n4  Chocolate       BE   560   320     140   1020     YES\n5                  FR   430   350     300   1080     YES\n6                                                       \n7                  NL   210   280     270    760      NO\n8  Speculaas       BE   300   270     290    860      NO\n9    Vanilla       BE   610   190     670   1470     YES",
      "text/html": "<div>\n<style scoped>\n    .dataframe tbody tr th:only-of-type {\n        vertical-align: middle;\n    }\n\n    .dataframe tbody tr th {\n        vertical-align: top;\n    }\n\n    .dataframe thead th {\n        text-align: right;\n    }\n</style>\n<table border=\"1\" class=\"dataframe\">\n  <thead>\n    <tr style=\"text-align: right;\">\n      <th></th>\n      <th>0</th>\n      <th>1</th>\n      <th>2</th>\n      <th>3</th>\n      <th>4</th>\n      <th>5</th>\n      <th>6</th>\n    </tr>\n  </thead>\n  <tbody>\n    <tr>\n      <th>0</th>\n      <td>Type</td>\n      <td>Country</td>\n      <td>June</td>\n      <td>July</td>\n      <td>August</td>\n      <td>Total</td>\n      <td>Profit</td>\n    </tr>\n    <tr>\n      <th>1</th>\n      <td>Banana</td>\n      <td>BE</td>\n      <td>170</td>\n      <td>690</td>\n      <td>520</td>\n      <td>1380</td>\n      <td>YES</td>\n    </tr>\n    <tr>\n      <th>2</th>\n      <td></td>\n      <td>DE</td>\n      <td>610</td>\n      <td>640</td>\n      <td>320</td>\n      <td>1570</td>\n      <td>NO</td>\n    </tr>\n    <tr>\n      <th>3</th>\n      <td></td>\n      <td>DE</td>\n      <td>250</td>\n      <td>650</td>\n      <td>630</td>\n      <td>1530</td>\n      <td>YES</td>\n    </tr>\n    <tr>\n      <th>4</th>\n      <td>Chocolate</td>\n      <td>BE</td>\n      <td>560</td>\n      <td>320</td>\n      <td>140</td>\n      <td>1020</td>\n      <td>YES</td>\n    </tr>\n    <tr>\n      <th>5</th>\n      <td></td>\n      <td>FR</td>\n      <td>430</td>\n      <td>350</td>\n      <td>300</td>\n      <td>1080</td>\n      <td>YES</td>\n    </tr>\n    <tr>\n      <th>6</th>\n      <td></td>\n      <td></td>\n      <td></td>\n      <td></td>\n      <td></td>\n      <td></td>\n      <td></td>\n    </tr>\n    <tr>\n      <th>7</th>\n      <td></td>\n      <td>NL</td>\n      <td>210</td>\n      <td>280</td>\n      <td>270</td>\n      <td>760</td>\n      <td>NO</td>\n    </tr>\n    <tr>\n      <th>8</th>\n      <td>Speculaas</td>\n      <td>BE</td>\n      <td>300</td>\n      <td>270</td>\n      <td>290</td>\n      <td>860</td>\n      <td>NO</td>\n    </tr>\n    <tr>\n      <th>9</th>\n      <td>Vanilla</td>\n      <td>BE</td>\n      <td>610</td>\n      <td>190</td>\n      <td>670</td>\n      <td>1470</td>\n      <td>YES</td>\n    </tr>\n  </tbody>\n</table>\n</div>"
     },
     "metadata": {}
    },
    {
     "output_type": "display_data",
     "data": {
      "text/plain": "   0  1  2  3  4  5  6\n0  0  0  4  0  0  0  0\n1  1  2  3  0  0  0  5\n2  0  0  0  0  0  0  0\n3  0  0  0  0  0  0  0\n4  0  0  0  0  0  0  0\n5  0  0  0  0  0  0  0\n6  0  0  0  0  0  0  0\n7  0  0  0  0  0  0  0\n8  0  0  0  0  0  0  0\n9  0  0  0  0  0  0  0",
      "text/html": "<div>\n<style scoped>\n    .dataframe tbody tr th:only-of-type {\n        vertical-align: middle;\n    }\n\n    .dataframe tbody tr th {\n        vertical-align: top;\n    }\n\n    .dataframe thead th {\n        text-align: right;\n    }\n</style>\n<table border=\"1\" class=\"dataframe\">\n  <thead>\n    <tr style=\"text-align: right;\">\n      <th></th>\n      <th>0</th>\n      <th>1</th>\n      <th>2</th>\n      <th>3</th>\n      <th>4</th>\n      <th>5</th>\n      <th>6</th>\n    </tr>\n  </thead>\n  <tbody>\n    <tr>\n      <th>0</th>\n      <td>0</td>\n      <td>0</td>\n      <td>4</td>\n      <td>0</td>\n      <td>0</td>\n      <td>0</td>\n      <td>0</td>\n    </tr>\n    <tr>\n      <th>1</th>\n      <td>1</td>\n      <td>2</td>\n      <td>3</td>\n      <td>0</td>\n      <td>0</td>\n      <td>0</td>\n      <td>5</td>\n    </tr>\n    <tr>\n      <th>2</th>\n      <td>0</td>\n      <td>0</td>\n      <td>0</td>\n      <td>0</td>\n      <td>0</td>\n      <td>0</td>\n      <td>0</td>\n    </tr>\n    <tr>\n      <th>3</th>\n      <td>0</td>\n      <td>0</td>\n      <td>0</td>\n      <td>0</td>\n      <td>0</td>\n      <td>0</td>\n      <td>0</td>\n    </tr>\n    <tr>\n      <th>4</th>\n      <td>0</td>\n      <td>0</td>\n      <td>0</td>\n      <td>0</td>\n      <td>0</td>\n      <td>0</td>\n      <td>0</td>\n    </tr>\n    <tr>\n      <th>5</th>\n      <td>0</td>\n      <td>0</td>\n      <td>0</td>\n      <td>0</td>\n      <td>0</td>\n      <td>0</td>\n      <td>0</td>\n    </tr>\n    <tr>\n      <th>6</th>\n      <td>0</td>\n      <td>0</td>\n      <td>0</td>\n      <td>0</td>\n      <td>0</td>\n      <td>0</td>\n      <td>0</td>\n    </tr>\n    <tr>\n      <th>7</th>\n      <td>0</td>\n      <td>0</td>\n      <td>0</td>\n      <td>0</td>\n      <td>0</td>\n      <td>0</td>\n      <td>0</td>\n    </tr>\n    <tr>\n      <th>8</th>\n      <td>0</td>\n      <td>0</td>\n      <td>0</td>\n      <td>0</td>\n      <td>0</td>\n      <td>0</td>\n      <td>0</td>\n    </tr>\n    <tr>\n      <th>9</th>\n      <td>0</td>\n      <td>0</td>\n      <td>0</td>\n      <td>0</td>\n      <td>0</td>\n      <td>0</td>\n      <td>0</td>\n    </tr>\n  </tbody>\n</table>\n</div>"
     },
     "metadata": {}
    }
   ],
   "source": [
    "icecream_color = copy(icecream)\n",
    "icecream_color.color(0, 1)\n",
    "icecream_color.color(1, 1)\n",
    "icecream_color.color(2, 1)\n",
    "icecream_color.color(2, 0)\n",
    "icecream_color.color(6, 1)\n",
    "display(icecream_color.df)\n",
    "display(icecream_color.color_df)"
   ]
  },
  {
   "source": [
    "## Delete"
   ],
   "cell_type": "code",
   "metadata": {},
   "execution_count": 3,
   "outputs": []
  },
  {
   "cell_type": "code",
   "execution_count": 21,
   "metadata": {},
   "outputs": [
    {
     "output_type": "execute_result",
     "data": {
      "text/plain": [
       "[(0, EmptyCondition()),\n",
       " (1, EmptyCondition()),\n",
       " (1, StyleCondition('bold', True)),\n",
       " (1, StyleCondition('bold', False)),\n",
       " (2, EmptyCondition()),\n",
       " (2, StyleCondition('bold', True)),\n",
       " (2, StyleCondition('bold', False)),\n",
       " (3, EmptyCondition()),\n",
       " (3, StyleCondition('bold', True)),\n",
       " (3, StyleCondition('bold', False)),\n",
       " (4, EmptyCondition()),\n",
       " (4, StyleCondition('bold', True)),\n",
       " (4, StyleCondition('bold', False)),\n",
       " (5, EmptyCondition()),\n",
       " (5, StyleCondition('bold', True)),\n",
       " (5, StyleCondition('bold', False)),\n",
       " (6, EmptyCondition()),\n",
       " (6, StyleCondition('bold', True)),\n",
       " (6, StyleCondition('bold', False))]"
      ]
     },
     "metadata": {},
     "execution_count": 21
    }
   ],
   "source": [
    "Delete.arguments(icecream)"
   ]
  },
  {
   "cell_type": "code",
   "execution_count": 28,
   "metadata": {},
   "outputs": [
    {
     "output_type": "execute_result",
     "data": {
      "text/plain": [
       "           0   1    2    3    4     5    6\n",
       "0     Banana  BE  170  690  520  1380  YES\n",
       "1             DE  610  640  320  1570   NO\n",
       "2             DE  250  650  630  1530  YES\n",
       "3  Chocolate  BE  560  320  140  1020  YES\n",
       "4             FR  430  350  300  1080  YES\n",
       "5                                         \n",
       "6             NL  210  280  270   760   NO\n",
       "7  Speculaas  BE  300  270  290   860   NO\n",
       "8    Vanilla  BE  610  190  670  1470  YES"
      ],
      "text/html": "<div>\n<style scoped>\n    .dataframe tbody tr th:only-of-type {\n        vertical-align: middle;\n    }\n\n    .dataframe tbody tr th {\n        vertical-align: top;\n    }\n\n    .dataframe thead th {\n        text-align: right;\n    }\n</style>\n<table border=\"1\" class=\"dataframe\">\n  <thead>\n    <tr style=\"text-align: right;\">\n      <th></th>\n      <th>0</th>\n      <th>1</th>\n      <th>2</th>\n      <th>3</th>\n      <th>4</th>\n      <th>5</th>\n      <th>6</th>\n    </tr>\n  </thead>\n  <tbody>\n    <tr>\n      <th>0</th>\n      <td>Banana</td>\n      <td>BE</td>\n      <td>170</td>\n      <td>690</td>\n      <td>520</td>\n      <td>1380</td>\n      <td>YES</td>\n    </tr>\n    <tr>\n      <th>1</th>\n      <td></td>\n      <td>DE</td>\n      <td>610</td>\n      <td>640</td>\n      <td>320</td>\n      <td>1570</td>\n      <td>NO</td>\n    </tr>\n    <tr>\n      <th>2</th>\n      <td></td>\n      <td>DE</td>\n      <td>250</td>\n      <td>650</td>\n      <td>630</td>\n      <td>1530</td>\n      <td>YES</td>\n    </tr>\n    <tr>\n      <th>3</th>\n      <td>Chocolate</td>\n      <td>BE</td>\n      <td>560</td>\n      <td>320</td>\n      <td>140</td>\n      <td>1020</td>\n      <td>YES</td>\n    </tr>\n    <tr>\n      <th>4</th>\n      <td></td>\n      <td>FR</td>\n      <td>430</td>\n      <td>350</td>\n      <td>300</td>\n      <td>1080</td>\n      <td>YES</td>\n    </tr>\n    <tr>\n      <th>5</th>\n      <td></td>\n      <td></td>\n      <td></td>\n      <td></td>\n      <td></td>\n      <td></td>\n      <td></td>\n    </tr>\n    <tr>\n      <th>6</th>\n      <td></td>\n      <td>NL</td>\n      <td>210</td>\n      <td>280</td>\n      <td>270</td>\n      <td>760</td>\n      <td>NO</td>\n    </tr>\n    <tr>\n      <th>7</th>\n      <td>Speculaas</td>\n      <td>BE</td>\n      <td>300</td>\n      <td>270</td>\n      <td>290</td>\n      <td>860</td>\n      <td>NO</td>\n    </tr>\n    <tr>\n      <th>8</th>\n      <td>Vanilla</td>\n      <td>BE</td>\n      <td>610</td>\n      <td>190</td>\n      <td>670</td>\n      <td>1470</td>\n      <td>YES</td>\n    </tr>\n  </tbody>\n</table>\n</div>"
     },
     "metadata": {},
     "execution_count": 28
    }
   ],
   "source": [
    "Delete(1, StyleCondition('bold', True))(icecream)"
   ]
  },
  {
   "cell_type": "markdown",
   "metadata": {},
   "source": [
    "## Divide"
   ]
  },
  {
   "cell_type": "code",
   "execution_count": 65,
   "metadata": {},
   "outputs": [
    {
     "output_type": "execute_result",
     "data": {
      "text/plain": [
       "[(6, 'bold'),\n",
       " (1, 'bold'),\n",
       " (2, 'dtype'),\n",
       " (3, 'dtype'),\n",
       " (5, 'dtype'),\n",
       " (4, 'bold'),\n",
       " (0, 'bold'),\n",
       " (2, 'bold'),\n",
       " (3, 'bold'),\n",
       " (4, 'dtype'),\n",
       " (5, 'bold')]"
      ]
     },
     "metadata": {},
     "execution_count": 65
    }
   ],
   "source": [
    "Divide.arguments(icecream)"
   ]
  },
  {
   "cell_type": "code",
   "execution_count": 66,
   "metadata": {
    "scrolled": false
   },
   "outputs": [
    {
     "output_type": "execute_result",
     "data": {
      "text/plain": [
       "           0        1     2     3       4     5      5       6\n",
       "0       Type  Country  June  July  August        Total  Profit\n",
       "1     Banana       BE   170   690     520  1380            YES\n",
       "2                  DE   610   640     320  1570             NO\n",
       "3                  DE   250   650     630  1530            YES\n",
       "4  Chocolate       BE   560   320     140  1020            YES\n",
       "5                  FR   430   350     300  1080            YES\n",
       "6                                                             \n",
       "7                  NL   210   280     270   760             NO\n",
       "8  Speculaas       BE   300   270     290   860             NO\n",
       "9    Vanilla       BE   610   190     670  1470            YES"
      ]
     },
     "metadata": {},
     "execution_count": 66
    }
   ],
   "source": [
    "divide = Divide(5, 'dtype')\n",
    "divide(sales)"
   ]
  },
  {
   "cell_type": "markdown",
   "metadata": {},
   "source": [
    "## Fill\n",
    "\n",
    "back- and forward filling of columns."
   ]
  },
  {
   "cell_type": "code",
   "execution_count": 19,
   "metadata": {
    "scrolled": false
   },
   "outputs": [
    {
     "output_type": "execute_result",
     "data": {
      "text/plain": [
       "[(0,)]"
      ]
     },
     "metadata": {},
     "execution_count": 19
    }
   ],
   "source": [
    "Fill.arguments(icecream)"
   ]
  },
  {
   "cell_type": "code",
   "execution_count": 4,
   "metadata": {
    "scrolled": false
   },
   "outputs": [
    {
     "data": {
      "text/plain": [
       "           0        1     2     3       4      5       6\n",
       "0       Type  Country  June  July  August  Total  Profit\n",
       "1     Banana       BE   170   690     520   1380     YES\n",
       "2     Banana       DE   610   640     320   1570      NO\n",
       "3     Banana       DE   250   650     630   1530     YES\n",
       "4  Chocolate       BE   560   320     140   1020     YES\n",
       "5  Chocolate       FR   430   350     300   1080     YES\n",
       "6  Chocolate     None  None  None    None   None    None\n",
       "7  Chocolate       NL   210   280     270    760      NO\n",
       "8  Speculaas       BE   300   270     290    860      NO\n",
       "9    Vanilla       BE   610   190     670   1470     YES"
      ]
     },
     "execution_count": 4,
     "metadata": {},
     "output_type": "execute_result"
    }
   ],
   "source": [
    "ForwardFill(0)(sales)"
   ]
  },
  {
   "source": [
    "## DivideAndFilll"
   ],
   "cell_type": "markdown",
   "metadata": {}
  },
  {
   "cell_type": "code",
   "execution_count": 100,
   "metadata": {},
   "outputs": [
    {
     "output_type": "execute_result",
     "data": {
      "text/plain": [
       "           0        1     2     3       4     5      5       6\n",
       "0       Type  Country  June  July  August        Total  Profit\n",
       "1     Banana       BE   170   690     520  1380  Total     YES\n",
       "2                  DE   610   640     320  1570  Total      NO\n",
       "3                  DE   250   650     630  1530  Total     YES\n",
       "4  Chocolate       BE   560   320     140  1020  Total     YES\n",
       "5                  FR   430   350     300  1080  Total     YES\n",
       "6                                          1080  Total        \n",
       "7                  NL   210   280     270   760  Total      NO\n",
       "8  Speculaas       BE   300   270     290   860  Total      NO\n",
       "9    Vanilla       BE   610   190     670  1470  Total     YES"
      ]
     },
     "metadata": {},
     "execution_count": 100
    }
   ],
   "source": [
    "DivideAndFill(5, 'dtype')(icecream)"
   ]
  },
  {
   "cell_type": "markdown",
   "metadata": {},
   "source": [
    "## Header"
   ]
  },
  {
   "cell_type": "code",
   "execution_count": null,
   "metadata": {},
   "outputs": [],
   "source": [
    "mock = Table(pd.DataFrame())"
   ]
  },
  {
   "cell_type": "code",
   "execution_count": 108,
   "metadata": {
    "scrolled": false
   },
   "outputs": [
    {
     "output_type": "execute_result",
     "data": {
      "text/plain": [
       "[(0,)]"
      ]
     },
     "metadata": {},
     "execution_count": 108
    }
   ],
   "source": [
    "Header.arguments_dtype(icecream)"
   ]
  },
  {
   "cell_type": "code",
   "execution_count": 107,
   "metadata": {},
   "outputs": [
    {
     "output_type": "execute_result",
     "data": {
      "text/plain": [
       "[(1,)]"
      ]
     },
     "metadata": {},
     "execution_count": 107
    }
   ],
   "source": [
    "Header.arguments_style(icecream_color)"
   ]
  },
  {
   "cell_type": "code",
   "execution_count": 109,
   "metadata": {},
   "outputs": [
    {
     "output_type": "execute_result",
     "data": {
      "text/plain": [
       "[(0,)]"
      ]
     },
     "metadata": {},
     "execution_count": 109
    }
   ],
   "source": [
    "Header.arguments(sales)"
   ]
  },
  {
   "cell_type": "code",
   "execution_count": 123,
   "metadata": {},
   "outputs": [
    {
     "output_type": "execute_result",
     "data": {
      "text/plain": [
       "0       Type Country June July August Total Profit\n",
       "2                 DE  610  640    320  1570     NO\n",
       "3                 DE  250  650    630  1530    YES\n",
       "4  Chocolate      BE  560  320    140  1020    YES\n",
       "5                 FR  430  350    300  1080    YES\n",
       "6                                                 \n",
       "7                 NL  210  280    270   760     NO\n",
       "8  Speculaas      BE  300  270    290   860     NO\n",
       "9    Vanilla      BE  610  190    670  1470    YES"
      ],
      "text/html": "<div>\n<style scoped>\n    .dataframe tbody tr th:only-of-type {\n        vertical-align: middle;\n    }\n\n    .dataframe tbody tr th {\n        vertical-align: top;\n    }\n\n    .dataframe thead th {\n        text-align: right;\n    }\n</style>\n<table border=\"1\" class=\"dataframe\">\n  <thead>\n    <tr style=\"text-align: right;\">\n      <th></th>\n      <th>Type</th>\n      <th>Country</th>\n      <th>June</th>\n      <th>July</th>\n      <th>August</th>\n      <th>Total</th>\n      <th>Profit</th>\n    </tr>\n  </thead>\n  <tbody>\n    <tr>\n      <th>2</th>\n      <td></td>\n      <td>DE</td>\n      <td>610</td>\n      <td>640</td>\n      <td>320</td>\n      <td>1570</td>\n      <td>NO</td>\n    </tr>\n    <tr>\n      <th>3</th>\n      <td></td>\n      <td>DE</td>\n      <td>250</td>\n      <td>650</td>\n      <td>630</td>\n      <td>1530</td>\n      <td>YES</td>\n    </tr>\n    <tr>\n      <th>4</th>\n      <td>Chocolate</td>\n      <td>BE</td>\n      <td>560</td>\n      <td>320</td>\n      <td>140</td>\n      <td>1020</td>\n      <td>YES</td>\n    </tr>\n    <tr>\n      <th>5</th>\n      <td></td>\n      <td>FR</td>\n      <td>430</td>\n      <td>350</td>\n      <td>300</td>\n      <td>1080</td>\n      <td>YES</td>\n    </tr>\n    <tr>\n      <th>6</th>\n      <td></td>\n      <td></td>\n      <td></td>\n      <td></td>\n      <td></td>\n      <td></td>\n      <td></td>\n    </tr>\n    <tr>\n      <th>7</th>\n      <td></td>\n      <td>NL</td>\n      <td>210</td>\n      <td>280</td>\n      <td>270</td>\n      <td>760</td>\n      <td>NO</td>\n    </tr>\n    <tr>\n      <th>8</th>\n      <td>Speculaas</td>\n      <td>BE</td>\n      <td>300</td>\n      <td>270</td>\n      <td>290</td>\n      <td>860</td>\n      <td>NO</td>\n    </tr>\n    <tr>\n      <th>9</th>\n      <td>Vanilla</td>\n      <td>BE</td>\n      <td>610</td>\n      <td>190</td>\n      <td>670</td>\n      <td>1470</td>\n      <td>YES</td>\n    </tr>\n  </tbody>\n</table>\n</div>"
     },
     "metadata": {},
     "execution_count": 123
    }
   ],
   "source": [
    "Header(1)(sales).df"
   ]
  },
  {
   "cell_type": "markdown",
   "metadata": {},
   "source": [
    "## Fold"
   ]
  },
  {
   "cell_type": "code",
   "execution_count": 76,
   "metadata": {},
   "outputs": [
    {
     "output_type": "stream",
     "name": "stdout",
     "text": [
      "           0        1     2     3       4      5       6\n0       Type  Country  June  July  August  Total  Profit\n1     Banana       BE   170   690     520   1380     YES\n2                  DE   610   640     320   1570      NO\n3                  DE   250   650     630   1530     YES\n4  Chocolate       BE   560   320     140   1020     YES\n5                  FR   430   350     300   1080     YES\n6                                                       \n7                  NL   210   280     270    760      NO\n8  Speculaas       BE   300   270     290    860      NO\n9    Vanilla       BE   610   190     670   1470     YES\n   0  1  2  3  4  5  6\n0  0  0  4  0  0  0  0\n1  1  2  3  0  0  0  5\n2  0  0  0  0  0  0  0\n3  0  0  0  0  0  0  0\n4  0  0  0  0  0  0  0\n5  0  0  0  0  0  0  0\n6  0  0  0  0  0  0  0\n7  0  0  0  0  0  0  0\n8  0  0  0  0  0  0  0\n9  0  0  0  0  0  0  0\n[]\n"
     ]
    },
    {
     "output_type": "execute_result",
     "data": {
      "text/plain": [
       "[]"
      ]
     },
     "metadata": {},
     "execution_count": 76
    }
   ],
   "source": [
    "Fold.arguments(icecream)"
   ]
  },
  {
   "cell_type": "code",
   "execution_count": 71,
   "metadata": {},
   "outputs": [
    {
     "output_type": "execute_result",
     "data": {
      "text/plain": [
       "   0  1  2  3  4  5  6\n",
       "0  0  0  4  0  0  0  0\n",
       "1  1  2  3  0  0  0  5\n",
       "2  0  0  0  0  0  0  0\n",
       "3  0  0  0  0  0  0  0\n",
       "4  0  0  0  0  0  0  0\n",
       "5  0  0  0  0  0  0  0\n",
       "6  0  0  0  0  0  0  0\n",
       "7  0  0  0  0  0  0  0\n",
       "8  0  0  0  0  0  0  0\n",
       "9  0  0  0  0  0  0  0"
      ],
      "text/html": "<div>\n<style scoped>\n    .dataframe tbody tr th:only-of-type {\n        vertical-align: middle;\n    }\n\n    .dataframe tbody tr th {\n        vertical-align: top;\n    }\n\n    .dataframe thead th {\n        text-align: right;\n    }\n</style>\n<table border=\"1\" class=\"dataframe\">\n  <thead>\n    <tr style=\"text-align: right;\">\n      <th></th>\n      <th>0</th>\n      <th>1</th>\n      <th>2</th>\n      <th>3</th>\n      <th>4</th>\n      <th>5</th>\n      <th>6</th>\n    </tr>\n  </thead>\n  <tbody>\n    <tr>\n      <th>0</th>\n      <td>0</td>\n      <td>0</td>\n      <td>4</td>\n      <td>0</td>\n      <td>0</td>\n      <td>0</td>\n      <td>0</td>\n    </tr>\n    <tr>\n      <th>1</th>\n      <td>1</td>\n      <td>2</td>\n      <td>3</td>\n      <td>0</td>\n      <td>0</td>\n      <td>0</td>\n      <td>5</td>\n    </tr>\n    <tr>\n      <th>2</th>\n      <td>0</td>\n      <td>0</td>\n      <td>0</td>\n      <td>0</td>\n      <td>0</td>\n      <td>0</td>\n      <td>0</td>\n    </tr>\n    <tr>\n      <th>3</th>\n      <td>0</td>\n      <td>0</td>\n      <td>0</td>\n      <td>0</td>\n      <td>0</td>\n      <td>0</td>\n      <td>0</td>\n    </tr>\n    <tr>\n      <th>4</th>\n      <td>0</td>\n      <td>0</td>\n      <td>0</td>\n      <td>0</td>\n      <td>0</td>\n      <td>0</td>\n      <td>0</td>\n    </tr>\n    <tr>\n      <th>5</th>\n      <td>0</td>\n      <td>0</td>\n      <td>0</td>\n      <td>0</td>\n      <td>0</td>\n      <td>0</td>\n      <td>0</td>\n    </tr>\n    <tr>\n      <th>6</th>\n      <td>0</td>\n      <td>0</td>\n      <td>0</td>\n      <td>0</td>\n      <td>0</td>\n      <td>0</td>\n      <td>0</td>\n    </tr>\n    <tr>\n      <th>7</th>\n      <td>0</td>\n      <td>0</td>\n      <td>0</td>\n      <td>0</td>\n      <td>0</td>\n      <td>0</td>\n      <td>0</td>\n    </tr>\n    <tr>\n      <th>8</th>\n      <td>0</td>\n      <td>0</td>\n      <td>0</td>\n      <td>0</td>\n      <td>0</td>\n      <td>0</td>\n      <td>0</td>\n    </tr>\n    <tr>\n      <th>9</th>\n      <td>0</td>\n      <td>0</td>\n      <td>0</td>\n      <td>0</td>\n      <td>0</td>\n      <td>0</td>\n      <td>0</td>\n    </tr>\n  </tbody>\n</table>\n</div>"
     },
     "metadata": {},
     "execution_count": 71
    }
   ],
   "source": [
    "icecream.color_df"
   ]
  },
  {
   "cell_type": "code",
   "execution_count": 68,
   "metadata": {},
   "outputs": [
    {
     "output_type": "stream",
     "name": "stdout",
     "text": [
      "[]\n"
     ]
    },
    {
     "output_type": "execute_result",
     "data": {
      "text/plain": [
       "[]"
      ]
     },
     "metadata": {},
     "execution_count": 68
    }
   ],
   "source": [
    "Fold.arguments(icecream_color)"
   ]
  },
  {
   "cell_type": "code",
   "execution_count": 80,
   "metadata": {},
   "outputs": [
    {
     "output_type": "execute_result",
     "data": {
      "text/plain": [
       "       2     3       4      5       6  variable      value\n",
       "0   June  July  August  Total  Profit         0       Type\n",
       "1    170   690     520   1380     YES         0     Banana\n",
       "2    610   640     320   1570      NO         0           \n",
       "3    250   650     630   1530     YES         0           \n",
       "4    560   320     140   1020     YES         0  Chocolate\n",
       "5    430   350     300   1080     YES         0           \n",
       "6                                             0           \n",
       "7    210   280     270    760      NO         0           \n",
       "8    300   270     290    860      NO         0  Speculaas\n",
       "9    610   190     670   1470     YES         0    Vanilla\n",
       "10  June  July  August  Total  Profit         1    Country\n",
       "11   170   690     520   1380     YES         1         BE\n",
       "12   610   640     320   1570      NO         1         DE\n",
       "13   250   650     630   1530     YES         1         DE\n",
       "14   560   320     140   1020     YES         1         BE\n",
       "15   430   350     300   1080     YES         1         FR\n",
       "16                                            1           \n",
       "17   210   280     270    760      NO         1         NL\n",
       "18   300   270     290    860      NO         1         BE\n",
       "19   610   190     670   1470     YES         1         BE"
      ]
     },
     "metadata": {},
     "execution_count": 80
    }
   ],
   "source": [
    "folded = Fold(0, 1)(sales)\n",
    "folded"
   ]
  },
  {
   "cell_type": "code",
   "execution_count": 42,
   "metadata": {},
   "outputs": [
    {
     "output_type": "stream",
     "name": "stdout",
     "text": [
      "Cell('June')\nCell(170)\nCell(610)\nCell(250)\nCell(560)\nCell(430)\nCell(None)\nCell(210)\nCell(300)\nCell(610)\nCell('June')\nCell(170)\nCell(610)\nCell(250)\nCell(560)\nCell(430)\nCell(None)\nCell(210)\nCell(300)\nCell(610)\nCell('July')\nCell(690)\nCell(640)\nCell(650)\nCell(320)\nCell(350)\nCell(None)\nCell(280)\nCell(270)\nCell(190)\nCell('July')\nCell(690)\nCell(640)\nCell(650)\nCell(320)\nCell(350)\nCell(None)\nCell(280)\nCell(270)\nCell(190)\nCell('August')\nCell(520)\nCell(320)\nCell(630)\nCell(140)\nCell(300)\nCell(None)\nCell(270)\nCell(290)\nCell(670)\nCell('August')\nCell(520)\nCell(320)\nCell(630)\nCell(140)\nCell(300)\nCell(None)\nCell(270)\nCell(290)\nCell(670)\nCell('Total')\nCell(1380)\nCell(1570)\nCell(1530)\nCell(1020)\nCell(1080)\nCell(None)\nCell(760)\nCell(860)\nCell(1470)\nCell('Total')\nCell(1380)\nCell(1570)\nCell(1530)\nCell(1020)\nCell(1080)\nCell(None)\nCell(760)\nCell(860)\nCell(1470)\nCell('Profit')\nCell('YES')\nCell('NO')\nCell('YES')\nCell('YES')\nCell('YES')\nCell(None)\nCell('NO')\nCell('NO')\nCell('YES')\nCell('Profit')\nCell('YES')\nCell('NO')\nCell('YES')\nCell('YES')\nCell('YES')\nCell(None)\nCell('NO')\nCell('NO')\nCell('YES')\n0\n0\n0\n0\n0\n0\n0\n0\n0\n0\n1\n1\n1\n1\n1\n1\n1\n1\n1\n1\nCell('Type')\nCell('Banana')\nCell(None)\nCell(None)\nCell('Chocolate')\nCell(None)\nCell(None)\nCell(None)\nCell('Speculaas')\nCell('Vanilla')\nCell('Country')\nCell('BE')\nCell('DE')\nCell('DE')\nCell('BE')\nCell('FR')\nCell(None)\nCell('NL')\nCell('BE')\nCell('BE')\n"
     ]
    }
   ],
   "source": [
    "for n in folded.df:\n",
    "    for c in folded.df[n]:\n",
    "        print(repr(c))"
   ]
  },
  {
   "cell_type": "code",
   "execution_count": 171,
   "metadata": {},
   "outputs": [
    {
     "data": {
      "text/plain": [
       "['string', 'string', 'integer', 'integer', 'integer', 'integer', 'string']"
      ]
     },
     "execution_count": 171,
     "metadata": {},
     "output_type": "execute_result"
    }
   ],
   "source": [
    "Header(0)(sales).column_types"
   ]
  },
  {
   "cell_type": "code",
   "execution_count": null,
   "metadata": {},
   "outputs": [],
   "source": []
  }
 ],
 "metadata": {
  "kernelspec": {
   "name": "python3",
   "display_name": "Python 3.9.5 64-bit ('synthasizer-llFb8Gxw': pipenv)"
  },
  "language_info": {
   "codemirror_mode": {
    "name": "ipython",
    "version": 3
   },
   "file_extension": ".py",
   "mimetype": "text/x-python",
   "name": "python",
   "nbconvert_exporter": "python",
   "pygments_lexer": "ipython3",
   "version": "3.9.5"
  },
  "interpreter": {
   "hash": "5a7bf517d1db13cfe7af313b786612ecdd2eb920b6e429ca6f332d19c4800d9b"
  }
 },
 "nbformat": 4,
 "nbformat_minor": 2
}