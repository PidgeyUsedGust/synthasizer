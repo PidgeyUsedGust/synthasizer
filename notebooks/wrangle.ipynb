{
 "cells": [
  {
   "cell_type": "code",
   "execution_count": 1,
   "metadata": {
    "scrolled": false
   },
   "outputs": [],
   "source": [
    "%reload_ext autoreload\n",
    "%autoreload 2\n",
    "\n",
    "import pandas as pd\n",
    "import openpyxl\n",
    "\n",
    "from synthasizer.table import Cell, Table, detect, detect_ranges\n",
    "from synthasizer.wrangle import Wrangler, Language"
   ]
  },
  {
   "cell_type": "code",
   "execution_count": 123,
   "metadata": {},
   "outputs": [],
   "source": [
    "icecream = detect(\n",
    "    openpyxl.load_workbook(\"../data/icecream.xlsx\")['icecream']\n",
    ")[0]\n",
    "# nba = openpyxl.load_workbook(\"../data/nba.xlsx\")\n",
    "# beer = openpyxl.load_workbook(\"../data/beers.xlsx\")\n",
    "# deeltijds = openpyxl.load_workbook(\"../data/deeltijdswerk.xlsx\")\n",
    "# dxc10 = openpyxl.load_workbook(\"../data/dxc10.xlsx\")"
   ]
  },
  {
   "cell_type": "code",
   "execution_count": 124,
   "metadata": {},
   "outputs": [],
   "source": [
    "from synthasizer.transformations import Delete, Divide, Header, Fill, Fold\n",
    "from synthasizer.heuristics import ValueColumnHeuristic, AggregatedHeuristic, WeightedHeuristic, EmptyColumnHeuristic, ColorRowHeuristic\n",
    "\n",
    "# pick a set of transformations\n",
    "language = Language([\n",
    "    Delete,\n",
    "    Divide,\n",
    "    Header,\n",
    "    Fill,\n",
    "    Fold\n",
    "])\n",
    "\n",
    "# initialise heuristic\n",
    "heuristic = WeightedHeuristic(\n",
    "    [AggregatedHeuristic(EmptyColumnHeuristic()),\n",
    "     AggregatedHeuristic(ValueColumnHeuristic()),\n",
    "     ColorRowHeuristic()],\n",
    ")\n",
    "\n",
    "# initialise wrangler\n",
    "wrangler = Wrangler(language,\n",
    "                    heuristic)"
   ]
  },
  {
   "cell_type": "code",
   "execution_count": 125,
   "metadata": {
    "tags": []
   },
   "outputs": [
    {
     "output_type": "execute_result",
     "data": {
      "text/plain": [
       "[State(score=1.0, program=[Header(1), Delete(6, EmptyCondition), Fill(0)], table=0       Type Country June July August Total Profit\n",
       " 0     Banana      BE  170  690    520  1380    YES\n",
       " 1     Banana      DE  610  640    320  1570     NO\n",
       " 2     Banana      DE  250  650    630  1530    YES\n",
       " 3  Chocolate      BE  560  320    140  1020    YES\n",
       " 4  Chocolate      FR  430  350    300  1080    YES\n",
       " 5  Chocolate      NL  210  280    270   760     NO\n",
       " 6  Speculaas      BE  300  270    290   860     NO\n",
       " 7    Vanilla      BE  610  190    670  1470    YES)]"
      ]
     },
     "metadata": {},
     "execution_count": 125
    }
   ],
   "source": [
    "wrangler.learn(icecream)"
   ]
  },
  {
   "cell_type": "code",
   "execution_count": 127,
   "metadata": {},
   "outputs": [
    {
     "output_type": "execute_result",
     "data": {
      "text/plain": [
       "   0  0  0  0  0  0  0\n",
       "0  0  0  2  0  0  0  0\n",
       "1  0  0  1  0  0  0  0\n",
       "2  0  0  0  0  0  0  0\n",
       "3  0  0  0  0  0  0  0\n",
       "4  0  0  0  0  0  0  0\n",
       "5  0  0  0  0  0  0  0\n",
       "6  0  0  0  0  0  0  0\n",
       "7  0  0  0  0  0  0  0\n",
       "8  0  0  0  0  0  0  0\n",
       "9  0  0  0  0  0  0  0"
      ],
      "text/html": "<div>\n<style scoped>\n    .dataframe tbody tr th:only-of-type {\n        vertical-align: middle;\n    }\n\n    .dataframe tbody tr th {\n        vertical-align: top;\n    }\n\n    .dataframe thead th {\n        text-align: right;\n    }\n</style>\n<table border=\"1\" class=\"dataframe\">\n  <thead>\n    <tr style=\"text-align: right;\">\n      <th></th>\n      <th>0</th>\n      <th>0</th>\n      <th>0</th>\n      <th>0</th>\n      <th>0</th>\n      <th>0</th>\n      <th>0</th>\n    </tr>\n  </thead>\n  <tbody>\n    <tr>\n      <th>0</th>\n      <td>0</td>\n      <td>0</td>\n      <td>2</td>\n      <td>0</td>\n      <td>0</td>\n      <td>0</td>\n      <td>0</td>\n    </tr>\n    <tr>\n      <th>1</th>\n      <td>0</td>\n      <td>0</td>\n      <td>1</td>\n      <td>0</td>\n      <td>0</td>\n      <td>0</td>\n      <td>0</td>\n    </tr>\n    <tr>\n      <th>2</th>\n      <td>0</td>\n      <td>0</td>\n      <td>0</td>\n      <td>0</td>\n      <td>0</td>\n      <td>0</td>\n      <td>0</td>\n    </tr>\n    <tr>\n      <th>3</th>\n      <td>0</td>\n      <td>0</td>\n      <td>0</td>\n      <td>0</td>\n      <td>0</td>\n      <td>0</td>\n      <td>0</td>\n    </tr>\n    <tr>\n      <th>4</th>\n      <td>0</td>\n      <td>0</td>\n      <td>0</td>\n      <td>0</td>\n      <td>0</td>\n      <td>0</td>\n      <td>0</td>\n    </tr>\n    <tr>\n      <th>5</th>\n      <td>0</td>\n      <td>0</td>\n      <td>0</td>\n      <td>0</td>\n      <td>0</td>\n      <td>0</td>\n      <td>0</td>\n    </tr>\n    <tr>\n      <th>6</th>\n      <td>0</td>\n      <td>0</td>\n      <td>0</td>\n      <td>0</td>\n      <td>0</td>\n      <td>0</td>\n      <td>0</td>\n    </tr>\n    <tr>\n      <th>7</th>\n      <td>0</td>\n      <td>0</td>\n      <td>0</td>\n      <td>0</td>\n      <td>0</td>\n      <td>0</td>\n      <td>0</td>\n    </tr>\n    <tr>\n      <th>8</th>\n      <td>0</td>\n      <td>0</td>\n      <td>0</td>\n      <td>0</td>\n      <td>0</td>\n      <td>0</td>\n      <td>0</td>\n    </tr>\n    <tr>\n      <th>9</th>\n      <td>0</td>\n      <td>0</td>\n      <td>0</td>\n      <td>0</td>\n      <td>0</td>\n      <td>0</td>\n      <td>0</td>\n    </tr>\n  </tbody>\n</table>\n</div>"
     },
     "metadata": {},
     "execution_count": 127
    }
   ],
   "source": [
    "icecream.color(2, 1)\n",
    "icecream.color(2, 0)\n",
    "icecream.color_df"
   ]
  },
  {
   "cell_type": "code",
   "execution_count": 129,
   "metadata": {},
   "outputs": [
    {
     "output_type": "stream",
     "name": "stderr",
     "text": [
      "c:\\users\\gustv\\projects\\synthasizer\\synthasizer\\wrangle.py:236: FutureWarning: This dataframe has a column name that matches the 'value_name' column name of the resulting Dataframe. In the future this will raise an error, please set the 'value_name' parameter of DataFrame.melt to a unique name.\n  candidates = self._language.candidates(state.table)\n"
     ]
    },
    {
     "output_type": "execute_result",
     "data": {
      "text/plain": [
       "[State(score=1.0, program=[Header(1), Delete(4, EmptyCondition), Fill(0), Fold(2, 3)], table=   August Total Country       Type Profit variable value\n",
       " 0     520  1380      BE     Banana    YES     June   170\n",
       " 1     320  1570      DE     Banana     NO     June   610\n",
       " 2     630  1530      DE     Banana    YES     June   250\n",
       " 3     140  1020      BE  Chocolate    YES     June   560\n",
       " 4     300  1080      FR  Chocolate    YES     June   430\n",
       " 5     270   760      NL  Chocolate     NO     June   210\n",
       " 6     290   860      BE  Speculaas     NO     June   300\n",
       " 7     670  1470      BE    Vanilla    YES     June   610\n",
       " 8     520  1380      BE     Banana    YES     July   690\n",
       " 9     320  1570      DE     Banana     NO     July   640\n",
       " 10    630  1530      DE     Banana    YES     July   650\n",
       " 11    140  1020      BE  Chocolate    YES     July   320\n",
       " 12    300  1080      FR  Chocolate    YES     July   350\n",
       " 13    270   760      NL  Chocolate     NO     July   280\n",
       " 14    290   860      BE  Speculaas     NO     July   270\n",
       " 15    670  1470      BE    Vanilla    YES     July   190)]"
      ]
     },
     "metadata": {},
     "execution_count": 129
    }
   ],
   "source": [
    "wrangler.learn(icecream)"
   ]
  },
  {
   "cell_type": "code",
   "execution_count": null,
   "metadata": {},
   "outputs": [],
   "source": []
  }
 ],
 "metadata": {
  "kernelspec": {
   "name": "python3",
   "display_name": "Python 3.9.5 64-bit ('synthasizer-llFb8Gxw': pipenv)"
  },
  "language_info": {
   "codemirror_mode": {
    "name": "ipython",
    "version": 3
   },
   "file_extension": ".py",
   "mimetype": "text/x-python",
   "name": "python",
   "nbconvert_exporter": "python",
   "pygments_lexer": "ipython3",
   "version": "3.9.5"
  },
  "interpreter": {
   "hash": "5a7bf517d1db13cfe7af313b786612ecdd2eb920b6e429ca6f332d19c4800d9b"
  }
 },
 "nbformat": 4,
 "nbformat_minor": 4
}