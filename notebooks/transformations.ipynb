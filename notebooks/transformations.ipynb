{
 "cells": [
  {
   "cell_type": "markdown",
   "metadata": {},
   "source": [
    "# transformations\n",
    "\n",
    "Test of all transformations."
   ]
  },
  {
   "cell_type": "code",
   "execution_count": 1,
   "metadata": {},
   "outputs": [],
   "source": [
    "%reload_ext autoreload\n",
    "%autoreload 2\n",
    "\n",
    "import openpyxl\n",
    "import pandas as pd\n",
    "import numpy as np\n",
    "\n",
    "from synthasizer.table import Table, Cell\n",
    "from synthasizer.transformations import *\n",
    "from synthasizer.conditions import *"
   ]
  },
  {
   "cell_type": "code",
   "execution_count": 2,
   "metadata": {},
   "outputs": [
    {
     "data": {
      "text/html": [
       "<div>\n",
       "<style scoped>\n",
       "    .dataframe tbody tr th:only-of-type {\n",
       "        vertical-align: middle;\n",
       "    }\n",
       "\n",
       "    .dataframe tbody tr th {\n",
       "        vertical-align: top;\n",
       "    }\n",
       "\n",
       "    .dataframe thead th {\n",
       "        text-align: right;\n",
       "    }\n",
       "</style>\n",
       "<table border=\"1\" class=\"dataframe\">\n",
       "  <thead>\n",
       "    <tr style=\"text-align: right;\">\n",
       "      <th></th>\n",
       "      <th>0</th>\n",
       "      <th>1</th>\n",
       "      <th>2</th>\n",
       "      <th>3</th>\n",
       "      <th>4</th>\n",
       "      <th>5</th>\n",
       "      <th>6</th>\n",
       "    </tr>\n",
       "  </thead>\n",
       "  <tbody>\n",
       "    <tr>\n",
       "      <th>0</th>\n",
       "      <td>Type</td>\n",
       "      <td>Country</td>\n",
       "      <td>June</td>\n",
       "      <td>July</td>\n",
       "      <td>August</td>\n",
       "      <td>Total</td>\n",
       "      <td>Profit</td>\n",
       "    </tr>\n",
       "    <tr>\n",
       "      <th>1</th>\n",
       "      <td>Banana</td>\n",
       "      <td>BE</td>\n",
       "      <td>170</td>\n",
       "      <td>690</td>\n",
       "      <td>520</td>\n",
       "      <td>1380</td>\n",
       "      <td>YES</td>\n",
       "    </tr>\n",
       "    <tr>\n",
       "      <th>2</th>\n",
       "      <td>None</td>\n",
       "      <td>DE</td>\n",
       "      <td>610</td>\n",
       "      <td>640</td>\n",
       "      <td>320</td>\n",
       "      <td>1570</td>\n",
       "      <td>NO</td>\n",
       "    </tr>\n",
       "    <tr>\n",
       "      <th>3</th>\n",
       "      <td>None</td>\n",
       "      <td>DE</td>\n",
       "      <td>250</td>\n",
       "      <td>650</td>\n",
       "      <td>630</td>\n",
       "      <td>1530</td>\n",
       "      <td>YES</td>\n",
       "    </tr>\n",
       "    <tr>\n",
       "      <th>4</th>\n",
       "      <td>Chocolate</td>\n",
       "      <td>BE</td>\n",
       "      <td>560</td>\n",
       "      <td>320</td>\n",
       "      <td>140</td>\n",
       "      <td>1020</td>\n",
       "      <td>YES</td>\n",
       "    </tr>\n",
       "    <tr>\n",
       "      <th>5</th>\n",
       "      <td>None</td>\n",
       "      <td>FR</td>\n",
       "      <td>430</td>\n",
       "      <td>350</td>\n",
       "      <td>300</td>\n",
       "      <td>1080</td>\n",
       "      <td>YES</td>\n",
       "    </tr>\n",
       "    <tr>\n",
       "      <th>6</th>\n",
       "      <td>None</td>\n",
       "      <td>None</td>\n",
       "      <td>None</td>\n",
       "      <td>None</td>\n",
       "      <td>None</td>\n",
       "      <td>None</td>\n",
       "      <td>None</td>\n",
       "    </tr>\n",
       "    <tr>\n",
       "      <th>7</th>\n",
       "      <td>None</td>\n",
       "      <td>NL</td>\n",
       "      <td>210</td>\n",
       "      <td>280</td>\n",
       "      <td>270</td>\n",
       "      <td>760</td>\n",
       "      <td>NO</td>\n",
       "    </tr>\n",
       "    <tr>\n",
       "      <th>8</th>\n",
       "      <td>Speculaas</td>\n",
       "      <td>BE</td>\n",
       "      <td>300</td>\n",
       "      <td>270</td>\n",
       "      <td>290</td>\n",
       "      <td>860</td>\n",
       "      <td>NO</td>\n",
       "    </tr>\n",
       "    <tr>\n",
       "      <th>9</th>\n",
       "      <td>Vanilla</td>\n",
       "      <td>BE</td>\n",
       "      <td>610</td>\n",
       "      <td>190</td>\n",
       "      <td>670</td>\n",
       "      <td>1470</td>\n",
       "      <td>YES</td>\n",
       "    </tr>\n",
       "  </tbody>\n",
       "</table>\n",
       "</div>"
      ],
      "text/plain": [
       "           0        1     2     3       4      5       6\n",
       "0       Type  Country  June  July  August  Total  Profit\n",
       "1     Banana       BE   170   690     520   1380     YES\n",
       "2       None       DE   610   640     320   1570      NO\n",
       "3       None       DE   250   650     630   1530     YES\n",
       "4  Chocolate       BE   560   320     140   1020     YES\n",
       "5       None       FR   430   350     300   1080     YES\n",
       "6       None     None  None  None    None   None    None\n",
       "7       None       NL   210   280     270    760      NO\n",
       "8  Speculaas       BE   300   270     290    860      NO\n",
       "9    Vanilla       BE   610   190     670   1470     YES"
      ]
     },
     "execution_count": 2,
     "metadata": {},
     "output_type": "execute_result"
    }
   ],
   "source": [
    "sales = openpyxl.load_workbook(\"../data/icecream.xlsx\")\n",
    "sales = Table.from_openpyxl(sales['icecream']['A1':'G10'])\n",
    "sales.color(0, 1)\n",
    "sales.color(1, 1)\n",
    "sales.color(2, 1)\n",
    "sales.color(2, 0)\n",
    "sales.color(6, 1)\n",
    "sales.df"
   ]
  },
  {
   "cell_type": "code",
   "execution_count": 25,
   "metadata": {},
   "outputs": [
    {
     "data": {
      "text/plain": [
       "0         Type\n",
       "1       Banana\n",
       "2         None\n",
       "3         None\n",
       "4    Chocolate\n",
       "5         None\n",
       "6         None\n",
       "7         None\n",
       "8    Speculaas\n",
       "9      Vanilla\n",
       "Name: 0, dtype: object"
      ]
     },
     "execution_count": 25,
     "metadata": {},
     "output_type": "execute_result"
    }
   ],
   "source": [
    "sales.df.iloc[:,0]"
   ]
  },
  {
   "cell_type": "markdown",
   "metadata": {},
   "source": [
    "## Delete"
   ]
  },
  {
   "cell_type": "code",
   "execution_count": 19,
   "metadata": {},
   "outputs": [
    {
     "data": {
      "text/plain": [
       "[(0, <synthasizer.conditions.EmptyCondition at 0x107243c40>),\n",
       " (1, <synthasizer.conditions.EmptyCondition at 0x112d0b7c0>),\n",
       " (2, <synthasizer.conditions.EmptyCondition at 0x112dd6f10>),\n",
       " (3, <synthasizer.conditions.EmptyCondition at 0x112dd62e0>),\n",
       " (4, <synthasizer.conditions.EmptyCondition at 0x112dd6e80>),\n",
       " (5, <synthasizer.conditions.EmptyCondition at 0x112dd6760>),\n",
       " (6, <synthasizer.conditions.EmptyCondition at 0x112dd6370>)]"
      ]
     },
     "execution_count": 19,
     "metadata": {},
     "output_type": "execute_result"
    }
   ],
   "source": [
    "Delete.arguments(sales)"
   ]
  },
  {
   "cell_type": "code",
   "execution_count": 21,
   "metadata": {},
   "outputs": [
    {
     "data": {
      "text/plain": [
       "           0        1     2     3       4      5       6\n",
       "0       Type  Country  June  July  August  Total  Profit\n",
       "1     Banana       BE   170   690     520   1380     YES\n",
       "2       None       DE   610   640     320   1570      NO\n",
       "3       None       DE   250   650     630   1530     YES\n",
       "4  Chocolate       BE   560   320     140   1020     YES\n",
       "5       None       FR   430   350     300   1080     YES\n",
       "7       None       NL   210   280     270    760      NO\n",
       "8  Speculaas       BE   300   270     290    860      NO\n",
       "9    Vanilla       BE   610   190     670   1470     YES"
      ]
     },
     "execution_count": 21,
     "metadata": {},
     "output_type": "execute_result"
    }
   ],
   "source": [
    "Delete(1, EmptyCondition())(sales)"
   ]
  },
  {
   "cell_type": "markdown",
   "metadata": {},
   "source": [
    "## Divide"
   ]
  },
  {
   "cell_type": "code",
   "execution_count": 26,
   "metadata": {},
   "outputs": [
    {
     "data": {
      "text/plain": [
       "[(0, 'bold'),\n",
       " (3, 'dtype'),\n",
       " (2, 'bold'),\n",
       " (5, 'dtype'),\n",
       " (3, 'bold'),\n",
       " (5, 'bold'),\n",
       " (6, 'bold'),\n",
       " (1, 'bold'),\n",
       " (4, 'dtype'),\n",
       " (4, 'bold'),\n",
       " (2, 'dtype')]"
      ]
     },
     "execution_count": 26,
     "metadata": {},
     "output_type": "execute_result"
    }
   ],
   "source": [
    "Divide.arguments(sales)"
   ]
  },
  {
   "cell_type": "code",
   "execution_count": 27,
   "metadata": {
    "scrolled": false
   },
   "outputs": [
    {
     "data": {
      "text/plain": [
       "           0        1     2     3       4     5      5       6\n",
       "0       Type  Country  June  July  August  None  Total  Profit\n",
       "1     Banana       BE   170   690     520  1380  Total     YES\n",
       "2       None       DE   610   640     320  1570  Total      NO\n",
       "3       None       DE   250   650     630  1530  Total     YES\n",
       "4  Chocolate       BE   560   320     140  1020  Total     YES\n",
       "5       None       FR   430   350     300  1080  Total     YES\n",
       "6       None     None  None  None    None  None   None    None\n",
       "7       None       NL   210   280     270   760  Total      NO\n",
       "8  Speculaas       BE   300   270     290   860  Total      NO\n",
       "9    Vanilla       BE   610   190     670  1470  Total     YES"
      ]
     },
     "execution_count": 27,
     "metadata": {},
     "output_type": "execute_result"
    }
   ],
   "source": [
    "divide = Divide(5, 'dtype')\n",
    "divide(sales)"
   ]
  },
  {
   "cell_type": "markdown",
   "metadata": {},
   "source": [
    "## Fill\n",
    "\n",
    "back- and forward filling of columns."
   ]
  },
  {
   "cell_type": "code",
   "execution_count": 3,
   "metadata": {
    "scrolled": false
   },
   "outputs": [
    {
     "data": {
      "text/plain": [
       "[(0,), (1,), (2,), (3,), (4,), (5,), (6,)]"
      ]
     },
     "execution_count": 3,
     "metadata": {},
     "output_type": "execute_result"
    }
   ],
   "source": [
    "ForwardFill.arguments(sales)"
   ]
  },
  {
   "cell_type": "code",
   "execution_count": 4,
   "metadata": {
    "scrolled": false
   },
   "outputs": [
    {
     "data": {
      "text/plain": [
       "           0        1     2     3       4      5       6\n",
       "0       Type  Country  June  July  August  Total  Profit\n",
       "1     Banana       BE   170   690     520   1380     YES\n",
       "2     Banana       DE   610   640     320   1570      NO\n",
       "3     Banana       DE   250   650     630   1530     YES\n",
       "4  Chocolate       BE   560   320     140   1020     YES\n",
       "5  Chocolate       FR   430   350     300   1080     YES\n",
       "6  Chocolate     None  None  None    None   None    None\n",
       "7  Chocolate       NL   210   280     270    760      NO\n",
       "8  Speculaas       BE   300   270     290    860      NO\n",
       "9    Vanilla       BE   610   190     670   1470     YES"
      ]
     },
     "execution_count": 4,
     "metadata": {},
     "output_type": "execute_result"
    }
   ],
   "source": [
    "ForwardFill(0)(sales)"
   ]
  },
  {
   "cell_type": "code",
   "execution_count": 69,
   "metadata": {},
   "outputs": [
    {
     "data": {
      "text/plain": [
       "True"
      ]
     },
     "execution_count": 69,
     "metadata": {},
     "output_type": "execute_result"
    }
   ],
   "source": [
    "pd.isna(None)"
   ]
  },
  {
   "cell_type": "markdown",
   "metadata": {},
   "source": [
    "## Header"
   ]
  },
  {
   "cell_type": "code",
   "execution_count": 40,
   "metadata": {
    "scrolled": false
   },
   "outputs": [
    {
     "data": {
      "text/plain": [
       "[(1,)]"
      ]
     },
     "execution_count": 40,
     "metadata": {},
     "output_type": "execute_result"
    }
   ],
   "source": [
    "Header.arguments_dtype(sales)"
   ]
  },
  {
   "cell_type": "code",
   "execution_count": 51,
   "metadata": {},
   "outputs": [
    {
     "data": {
      "text/plain": [
       "[(1,)]"
      ]
     },
     "execution_count": 51,
     "metadata": {},
     "output_type": "execute_result"
    }
   ],
   "source": [
    "Header.arguments_style(sales)"
   ]
  },
  {
   "cell_type": "code",
   "execution_count": 52,
   "metadata": {},
   "outputs": [
    {
     "data": {
      "text/plain": [
       "[(1,)]"
      ]
     },
     "execution_count": 52,
     "metadata": {},
     "output_type": "execute_result"
    }
   ],
   "source": [
    "Header.arguments(sales)"
   ]
  },
  {
   "cell_type": "code",
   "execution_count": 148,
   "metadata": {},
   "outputs": [
    {
     "data": {
      "text/html": [
       "<div>\n",
       "<style scoped>\n",
       "    .dataframe tbody tr th:only-of-type {\n",
       "        vertical-align: middle;\n",
       "    }\n",
       "\n",
       "    .dataframe tbody tr th {\n",
       "        vertical-align: top;\n",
       "    }\n",
       "\n",
       "    .dataframe thead th {\n",
       "        text-align: right;\n",
       "    }\n",
       "</style>\n",
       "<table border=\"1\" class=\"dataframe\">\n",
       "  <thead>\n",
       "    <tr style=\"text-align: right;\">\n",
       "      <th></th>\n",
       "      <th>Type</th>\n",
       "      <th>Country</th>\n",
       "      <th>June</th>\n",
       "      <th>July</th>\n",
       "      <th>August</th>\n",
       "      <th>Total</th>\n",
       "      <th>Profit</th>\n",
       "    </tr>\n",
       "  </thead>\n",
       "  <tbody>\n",
       "    <tr>\n",
       "      <th>1</th>\n",
       "      <td>Banana</td>\n",
       "      <td>BE</td>\n",
       "      <td>170</td>\n",
       "      <td>690</td>\n",
       "      <td>520</td>\n",
       "      <td>1380</td>\n",
       "      <td>YES</td>\n",
       "    </tr>\n",
       "    <tr>\n",
       "      <th>2</th>\n",
       "      <td>None</td>\n",
       "      <td>DE</td>\n",
       "      <td>610</td>\n",
       "      <td>640</td>\n",
       "      <td>320</td>\n",
       "      <td>1570</td>\n",
       "      <td>NO</td>\n",
       "    </tr>\n",
       "    <tr>\n",
       "      <th>3</th>\n",
       "      <td>None</td>\n",
       "      <td>DE</td>\n",
       "      <td>250</td>\n",
       "      <td>650</td>\n",
       "      <td>630</td>\n",
       "      <td>1530</td>\n",
       "      <td>YES</td>\n",
       "    </tr>\n",
       "    <tr>\n",
       "      <th>4</th>\n",
       "      <td>Chocolate</td>\n",
       "      <td>BE</td>\n",
       "      <td>560</td>\n",
       "      <td>320</td>\n",
       "      <td>140</td>\n",
       "      <td>1020</td>\n",
       "      <td>YES</td>\n",
       "    </tr>\n",
       "    <tr>\n",
       "      <th>5</th>\n",
       "      <td>None</td>\n",
       "      <td>FR</td>\n",
       "      <td>430</td>\n",
       "      <td>350</td>\n",
       "      <td>300</td>\n",
       "      <td>1080</td>\n",
       "      <td>YES</td>\n",
       "    </tr>\n",
       "    <tr>\n",
       "      <th>6</th>\n",
       "      <td>None</td>\n",
       "      <td>None</td>\n",
       "      <td>None</td>\n",
       "      <td>None</td>\n",
       "      <td>None</td>\n",
       "      <td>None</td>\n",
       "      <td>None</td>\n",
       "    </tr>\n",
       "    <tr>\n",
       "      <th>7</th>\n",
       "      <td>None</td>\n",
       "      <td>NL</td>\n",
       "      <td>210</td>\n",
       "      <td>280</td>\n",
       "      <td>270</td>\n",
       "      <td>760</td>\n",
       "      <td>NO</td>\n",
       "    </tr>\n",
       "    <tr>\n",
       "      <th>8</th>\n",
       "      <td>Speculaas</td>\n",
       "      <td>BE</td>\n",
       "      <td>300</td>\n",
       "      <td>270</td>\n",
       "      <td>290</td>\n",
       "      <td>860</td>\n",
       "      <td>NO</td>\n",
       "    </tr>\n",
       "    <tr>\n",
       "      <th>9</th>\n",
       "      <td>Vanilla</td>\n",
       "      <td>BE</td>\n",
       "      <td>610</td>\n",
       "      <td>190</td>\n",
       "      <td>670</td>\n",
       "      <td>1470</td>\n",
       "      <td>YES</td>\n",
       "    </tr>\n",
       "  </tbody>\n",
       "</table>\n",
       "</div>"
      ],
      "text/plain": [
       "0       Type Country  June  July August Total Profit\n",
       "1     Banana      BE   170   690    520  1380    YES\n",
       "2       None      DE   610   640    320  1570     NO\n",
       "3       None      DE   250   650    630  1530    YES\n",
       "4  Chocolate      BE   560   320    140  1020    YES\n",
       "5       None      FR   430   350    300  1080    YES\n",
       "6       None    None  None  None   None  None   None\n",
       "7       None      NL   210   280    270   760     NO\n",
       "8  Speculaas      BE   300   270    290   860     NO\n",
       "9    Vanilla      BE   610   190    670  1470    YES"
      ]
     },
     "execution_count": 148,
     "metadata": {},
     "output_type": "execute_result"
    }
   ],
   "source": [
    "Header(0)(sales).df"
   ]
  },
  {
   "cell_type": "markdown",
   "metadata": {},
   "source": [
    "## Fold"
   ]
  },
  {
   "cell_type": "code",
   "execution_count": 13,
   "metadata": {},
   "outputs": [
    {
     "data": {
      "text/plain": [
       "[(2, 3), (2, 4), (2, 5)]"
      ]
     },
     "execution_count": 13,
     "metadata": {},
     "output_type": "execute_result"
    }
   ],
   "source": [
    "Fold.arguments(Header(0)(sales))"
   ]
  },
  {
   "cell_type": "code",
   "execution_count": 14,
   "metadata": {},
   "outputs": [
    {
     "data": {
      "text/plain": [
       "[]"
      ]
     },
     "execution_count": 14,
     "metadata": {},
     "output_type": "execute_result"
    }
   ],
   "source": [
    "Fold.arguments(sales)"
   ]
  },
  {
   "cell_type": "code",
   "execution_count": 17,
   "metadata": {},
   "outputs": [
    {
     "data": {
      "text/plain": [
       "   Profit       Type Country       0 value\n",
       "0     YES     Banana      BE    June   170\n",
       "1      NO       None      DE    June   610\n",
       "2     YES       None      DE    June   250\n",
       "3     YES  Chocolate      BE    June   560\n",
       "4     YES       None      FR    June   430\n",
       "5    None       None    None    June  None\n",
       "6      NO       None      NL    June   210\n",
       "7      NO  Speculaas      BE    June   300\n",
       "8     YES    Vanilla      BE    June   610\n",
       "9     YES     Banana      BE    July   690\n",
       "10     NO       None      DE    July   640\n",
       "11    YES       None      DE    July   650\n",
       "12    YES  Chocolate      BE    July   320\n",
       "13    YES       None      FR    July   350\n",
       "14   None       None    None    July  None\n",
       "15     NO       None      NL    July   280\n",
       "16     NO  Speculaas      BE    July   270\n",
       "17    YES    Vanilla      BE    July   190\n",
       "18    YES     Banana      BE  August   520\n",
       "19     NO       None      DE  August   320\n",
       "20    YES       None      DE  August   630\n",
       "21    YES  Chocolate      BE  August   140\n",
       "22    YES       None      FR  August   300\n",
       "23   None       None    None  August  None\n",
       "24     NO       None      NL  August   270\n",
       "25     NO  Speculaas      BE  August   290\n",
       "26    YES    Vanilla      BE  August   670\n",
       "27    YES     Banana      BE   Total  1380\n",
       "28     NO       None      DE   Total  1570\n",
       "29    YES       None      DE   Total  1530\n",
       "30    YES  Chocolate      BE   Total  1020\n",
       "31    YES       None      FR   Total  1080\n",
       "32   None       None    None   Total  None\n",
       "33     NO       None      NL   Total   760\n",
       "34     NO  Speculaas      BE   Total   860\n",
       "35    YES    Vanilla      BE   Total  1470"
      ]
     },
     "execution_count": 17,
     "metadata": {},
     "output_type": "execute_result"
    }
   ],
   "source": [
    "fold = Fold(2, 5)\n",
    "fold(Header(0)(sales))"
   ]
  },
  {
   "cell_type": "code",
   "execution_count": 171,
   "metadata": {},
   "outputs": [
    {
     "data": {
      "text/plain": [
       "['string', 'string', 'integer', 'integer', 'integer', 'integer', 'string']"
      ]
     },
     "execution_count": 171,
     "metadata": {},
     "output_type": "execute_result"
    }
   ],
   "source": [
    "Header(0)(sales).column_types"
   ]
  },
  {
   "cell_type": "code",
   "execution_count": null,
   "metadata": {},
   "outputs": [],
   "source": []
  }
 ],
 "metadata": {
  "kernelspec": {
   "display_name": "synthasizer",
   "language": "python",
   "name": "synthasizer"
  },
  "language_info": {
   "codemirror_mode": {
    "name": "ipython",
    "version": 3
   },
   "file_extension": ".py",
   "mimetype": "text/x-python",
   "name": "python",
   "nbconvert_exporter": "python",
   "pygments_lexer": "ipython3",
   "version": "3.8.5"
  }
 },
 "nbformat": 4,
 "nbformat_minor": 2
}
