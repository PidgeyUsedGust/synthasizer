{
 "cells": [
  {
   "cell_type": "code",
   "execution_count": 32,
   "metadata": {},
   "outputs": [],
   "source": [
    "%reload_ext autoreload\n",
    "%autoreload 2\n",
    "\n",
    "import openpyxl\n",
    "import pandas as pd\n",
    "import numpy as np\n",
    "\n",
    "from synthasizer.table import Table, Cell\n",
    "from synthasizer.transformations import *\n",
    "from synthasizer.conditions import *\n",
    "from synthasizer.heuristics import *\n",
    "from synthasizer.error import ReconstructionError"
   ]
  },
  {
   "cell_type": "code",
   "execution_count": 64,
   "metadata": {},
   "outputs": [
    {
     "output_type": "display_data",
     "data": {
      "text/plain": "           0        1     2     3       4      5       6\n0       Type  Country  June  July  August  Total  Profit\n1     Banana       BE   170   690     520   1380     YES\n2                  DE   610   640     320   1570      NO\n3                  DE   250   650     630   1530     YES\n4  Chocolate       BE   560   320     140   1020     YES\n5                  FR   430   350     300   1080     YES\n6                                                       \n7                  NL   210   280     270    760      NO\n8  Speculaas       BE   300   270     290    860      NO\n9    Vanilla       BE   610   190     670   1470     YES"
     },
     "metadata": {}
    },
    {
     "output_type": "display_data",
     "data": {
      "text/plain": "   0  0  0  0  0  0  0\n0  0  0  4  0  0  0  0\n1  1  2  3  0  0  0  5\n2  0  0  0  0  0  0  0\n3  0  0  0  0  0  0  0\n4  0  0  0  0  0  0  0\n5  0  0  0  0  0  0  0\n6  0  0  0  0  0  0  0\n7  0  0  0  0  0  0  0\n8  0  0  0  0  0  0  0\n9  0  0  0  0  0  0  0",
      "text/html": "<div>\n<style scoped>\n    .dataframe tbody tr th:only-of-type {\n        vertical-align: middle;\n    }\n\n    .dataframe tbody tr th {\n        vertical-align: top;\n    }\n\n    .dataframe thead th {\n        text-align: right;\n    }\n</style>\n<table border=\"1\" class=\"dataframe\">\n  <thead>\n    <tr style=\"text-align: right;\">\n      <th></th>\n      <th>0</th>\n      <th>0</th>\n      <th>0</th>\n      <th>0</th>\n      <th>0</th>\n      <th>0</th>\n      <th>0</th>\n    </tr>\n  </thead>\n  <tbody>\n    <tr>\n      <th>0</th>\n      <td>0</td>\n      <td>0</td>\n      <td>4</td>\n      <td>0</td>\n      <td>0</td>\n      <td>0</td>\n      <td>0</td>\n    </tr>\n    <tr>\n      <th>1</th>\n      <td>1</td>\n      <td>2</td>\n      <td>3</td>\n      <td>0</td>\n      <td>0</td>\n      <td>0</td>\n      <td>5</td>\n    </tr>\n    <tr>\n      <th>2</th>\n      <td>0</td>\n      <td>0</td>\n      <td>0</td>\n      <td>0</td>\n      <td>0</td>\n      <td>0</td>\n      <td>0</td>\n    </tr>\n    <tr>\n      <th>3</th>\n      <td>0</td>\n      <td>0</td>\n      <td>0</td>\n      <td>0</td>\n      <td>0</td>\n      <td>0</td>\n      <td>0</td>\n    </tr>\n    <tr>\n      <th>4</th>\n      <td>0</td>\n      <td>0</td>\n      <td>0</td>\n      <td>0</td>\n      <td>0</td>\n      <td>0</td>\n      <td>0</td>\n    </tr>\n    <tr>\n      <th>5</th>\n      <td>0</td>\n      <td>0</td>\n      <td>0</td>\n      <td>0</td>\n      <td>0</td>\n      <td>0</td>\n      <td>0</td>\n    </tr>\n    <tr>\n      <th>6</th>\n      <td>0</td>\n      <td>0</td>\n      <td>0</td>\n      <td>0</td>\n      <td>0</td>\n      <td>0</td>\n      <td>0</td>\n    </tr>\n    <tr>\n      <th>7</th>\n      <td>0</td>\n      <td>0</td>\n      <td>0</td>\n      <td>0</td>\n      <td>0</td>\n      <td>0</td>\n      <td>0</td>\n    </tr>\n    <tr>\n      <th>8</th>\n      <td>0</td>\n      <td>0</td>\n      <td>0</td>\n      <td>0</td>\n      <td>0</td>\n      <td>0</td>\n      <td>0</td>\n    </tr>\n    <tr>\n      <th>9</th>\n      <td>0</td>\n      <td>0</td>\n      <td>0</td>\n      <td>0</td>\n      <td>0</td>\n      <td>0</td>\n      <td>0</td>\n    </tr>\n  </tbody>\n</table>\n</div>"
     },
     "metadata": {}
    }
   ],
   "source": [
    "sales = openpyxl.load_workbook(\"../data/icecream.xlsx\")\n",
    "sales = Table.from_openpyxl(sales['icecream']['A1':'G10'])\n",
    "sales.color(0, 1)\n",
    "sales.color(1, 1)\n",
    "sales.color(2, 1)\n",
    "sales.color(2, 0)\n",
    "sales.color(6, 1)\n",
    "display(sales)\n",
    "display(sales.color_df)"
   ]
  },
  {
   "cell_type": "code",
   "execution_count": 22,
   "metadata": {},
   "outputs": [
    {
     "output_type": "display_data",
     "data": {
      "text/plain": "0       Type Country June July August Total Profit\n0     Banana      BE  170  690    520  1380    YES\n1                 DE  610  640    320  1570     NO\n2                 DE  250  650    630  1530    YES\n3  Chocolate      BE  560  320    140  1020    YES\n4                 FR  430  350    300  1080    YES\n5                                                 \n6                 NL  210  280    270   760     NO\n7  Speculaas      BE  300  270    290   860     NO\n8    Vanilla      BE  610  190    670  1470    YES",
      "text/html": "<div>\n<style scoped>\n    .dataframe tbody tr th:only-of-type {\n        vertical-align: middle;\n    }\n\n    .dataframe tbody tr th {\n        vertical-align: top;\n    }\n\n    .dataframe thead th {\n        text-align: right;\n    }\n</style>\n<table border=\"1\" class=\"dataframe\">\n  <thead>\n    <tr style=\"text-align: right;\">\n      <th></th>\n      <th>Type</th>\n      <th>Country</th>\n      <th>June</th>\n      <th>July</th>\n      <th>August</th>\n      <th>Total</th>\n      <th>Profit</th>\n    </tr>\n  </thead>\n  <tbody>\n    <tr>\n      <th>0</th>\n      <td>Banana</td>\n      <td>BE</td>\n      <td>170</td>\n      <td>690</td>\n      <td>520</td>\n      <td>1380</td>\n      <td>YES</td>\n    </tr>\n    <tr>\n      <th>1</th>\n      <td></td>\n      <td>DE</td>\n      <td>610</td>\n      <td>640</td>\n      <td>320</td>\n      <td>1570</td>\n      <td>NO</td>\n    </tr>\n    <tr>\n      <th>2</th>\n      <td></td>\n      <td>DE</td>\n      <td>250</td>\n      <td>650</td>\n      <td>630</td>\n      <td>1530</td>\n      <td>YES</td>\n    </tr>\n    <tr>\n      <th>3</th>\n      <td>Chocolate</td>\n      <td>BE</td>\n      <td>560</td>\n      <td>320</td>\n      <td>140</td>\n      <td>1020</td>\n      <td>YES</td>\n    </tr>\n    <tr>\n      <th>4</th>\n      <td></td>\n      <td>FR</td>\n      <td>430</td>\n      <td>350</td>\n      <td>300</td>\n      <td>1080</td>\n      <td>YES</td>\n    </tr>\n    <tr>\n      <th>5</th>\n      <td></td>\n      <td></td>\n      <td></td>\n      <td></td>\n      <td></td>\n      <td></td>\n      <td></td>\n    </tr>\n    <tr>\n      <th>6</th>\n      <td></td>\n      <td>NL</td>\n      <td>210</td>\n      <td>280</td>\n      <td>270</td>\n      <td>760</td>\n      <td>NO</td>\n    </tr>\n    <tr>\n      <th>7</th>\n      <td>Speculaas</td>\n      <td>BE</td>\n      <td>300</td>\n      <td>270</td>\n      <td>290</td>\n      <td>860</td>\n      <td>NO</td>\n    </tr>\n    <tr>\n      <th>8</th>\n      <td>Vanilla</td>\n      <td>BE</td>\n      <td>610</td>\n      <td>190</td>\n      <td>670</td>\n      <td>1470</td>\n      <td>YES</td>\n    </tr>\n  </tbody>\n</table>\n</div>"
     },
     "metadata": {}
    },
    {
     "output_type": "display_data",
     "data": {
      "text/plain": "   0  0  4  0  0  0  0\n0  1  2  3  0  0  0  5\n1  0  0  0  0  0  0  0\n2  0  0  0  0  0  0  0\n3  0  0  0  0  0  0  0\n4  0  0  0  0  0  0  0\n5  0  0  0  0  0  0  0\n6  0  0  0  0  0  0  0\n7  0  0  0  0  0  0  0\n8  0  0  0  0  0  0  0",
      "text/html": "<div>\n<style scoped>\n    .dataframe tbody tr th:only-of-type {\n        vertical-align: middle;\n    }\n\n    .dataframe tbody tr th {\n        vertical-align: top;\n    }\n\n    .dataframe thead th {\n        text-align: right;\n    }\n</style>\n<table border=\"1\" class=\"dataframe\">\n  <thead>\n    <tr style=\"text-align: right;\">\n      <th></th>\n      <th>0</th>\n      <th>0</th>\n      <th>4</th>\n      <th>0</th>\n      <th>0</th>\n      <th>0</th>\n      <th>0</th>\n    </tr>\n  </thead>\n  <tbody>\n    <tr>\n      <th>0</th>\n      <td>1</td>\n      <td>2</td>\n      <td>3</td>\n      <td>0</td>\n      <td>0</td>\n      <td>0</td>\n      <td>5</td>\n    </tr>\n    <tr>\n      <th>1</th>\n      <td>0</td>\n      <td>0</td>\n      <td>0</td>\n      <td>0</td>\n      <td>0</td>\n      <td>0</td>\n      <td>0</td>\n    </tr>\n    <tr>\n      <th>2</th>\n      <td>0</td>\n      <td>0</td>\n      <td>0</td>\n      <td>0</td>\n      <td>0</td>\n      <td>0</td>\n      <td>0</td>\n    </tr>\n    <tr>\n      <th>3</th>\n      <td>0</td>\n      <td>0</td>\n      <td>0</td>\n      <td>0</td>\n      <td>0</td>\n      <td>0</td>\n      <td>0</td>\n    </tr>\n    <tr>\n      <th>4</th>\n      <td>0</td>\n      <td>0</td>\n      <td>0</td>\n      <td>0</td>\n      <td>0</td>\n      <td>0</td>\n      <td>0</td>\n    </tr>\n    <tr>\n      <th>5</th>\n      <td>0</td>\n      <td>0</td>\n      <td>0</td>\n      <td>0</td>\n      <td>0</td>\n      <td>0</td>\n      <td>0</td>\n    </tr>\n    <tr>\n      <th>6</th>\n      <td>0</td>\n      <td>0</td>\n      <td>0</td>\n      <td>0</td>\n      <td>0</td>\n      <td>0</td>\n      <td>0</td>\n    </tr>\n    <tr>\n      <th>7</th>\n      <td>0</td>\n      <td>0</td>\n      <td>0</td>\n      <td>0</td>\n      <td>0</td>\n      <td>0</td>\n      <td>0</td>\n    </tr>\n    <tr>\n      <th>8</th>\n      <td>0</td>\n      <td>0</td>\n      <td>0</td>\n      <td>0</td>\n      <td>0</td>\n      <td>0</td>\n      <td>0</td>\n    </tr>\n  </tbody>\n</table>\n</div>"
     },
     "metadata": {}
    }
   ],
   "source": [
    "sales_header = Header(1)(sales)\n",
    "display(sales_header.df)\n",
    "display(sales_header.color_df)"
   ]
  },
  {
   "cell_type": "code",
   "execution_count": 13,
   "metadata": {},
   "outputs": [
    {
     "output_type": "execute_result",
     "data": {
      "text/plain": [
       "0.8428571428571429"
      ]
     },
     "metadata": {},
     "execution_count": 13
    }
   ],
   "source": [
    "AggregatedHeuristic(EmptyColumnHeuristic())(sales)"
   ]
  },
  {
   "cell_type": "code",
   "execution_count": 12,
   "metadata": {},
   "outputs": [
    {
     "output_type": "execute_result",
     "data": {
      "text/plain": [
       "0.8603174603174605"
      ]
     },
     "metadata": {},
     "execution_count": 12
    }
   ],
   "source": [
    "AggregatedHeuristic(ValueColumnHeuristic())(sales)"
   ]
  },
  {
   "cell_type": "code",
   "execution_count": 14,
   "metadata": {},
   "outputs": [
    {
     "output_type": "execute_result",
     "data": {
      "text/plain": [
       "0.8333333333333334"
      ]
     },
     "metadata": {},
     "execution_count": 14
    }
   ],
   "source": [
    "ColorRowHeuristic()(sales)"
   ]
  },
  {
   "cell_type": "code",
   "execution_count": 23,
   "metadata": {},
   "outputs": [
    {
     "output_type": "execute_result",
     "data": {
      "text/plain": [
       "0.886243386243386"
      ]
     },
     "metadata": {},
     "execution_count": 23
    }
   ],
   "source": [
    "WeightedHeuristic(\n",
    "    [AggregatedHeuristic(EmptyColumnHeuristic()),\n",
    "     AggregatedHeuristic(ValueColumnHeuristic()),\n",
    "     ColorRowHeuristic()],\n",
    ")(sales_header)"
   ]
  },
  {
   "cell_type": "code",
   "execution_count": 66,
   "metadata": {},
   "outputs": [],
   "source": [
    "error = ReconstructionError(sales)"
   ]
  },
  {
   "cell_type": "code",
   "execution_count": 38,
   "metadata": {},
   "outputs": [
    {
     "output_type": "execute_result",
     "data": {
      "text/plain": [
       "           0   1    2    3    4     5    6\n",
       "0     Banana  BE  170  690  520  1380  YES\n",
       "1             DE  610  640  320  1570   NO\n",
       "2             DE  250  650  630  1530  YES\n",
       "3  Chocolate  BE  560  320  140  1020  YES\n",
       "4             FR  430  350  300  1080  YES\n",
       "5             NL  210  280  270   760   NO\n",
       "6  Speculaas  BE  300  270  290   860   NO\n",
       "7    Vanilla  BE  610  190  670  1470  YES"
      ]
     },
     "metadata": {},
     "execution_count": 38
    }
   ],
   "source": [
    "d2 = Delete(6, EmptyCondition())(\n",
    "        Delete(4, StyleCondition('bold', True))(sales)\n",
    "     )\n",
    "d2"
   ]
  },
  {
   "cell_type": "code",
   "execution_count": 42,
   "metadata": {},
   "outputs": [
    {
     "output_type": "execute_result",
     "data": {
      "text/plain": [
       "1"
      ]
     },
     "metadata": {},
     "execution_count": 42
    }
   ],
   "source": [
    "error(d2)"
   ]
  },
  {
   "cell_type": "code",
   "execution_count": 65,
   "metadata": {},
   "outputs": [
    {
     "output_type": "execute_result",
     "data": {
      "text/plain": [
       "0       Type Country June July August Total Profit\n",
       "0     Banana      BE  170  690    520  1380    YES\n",
       "1                 DE  610  640    320  1570     NO\n",
       "2                 DE  250  650    630  1530    YES\n",
       "3  Chocolate      BE  560  320    140  1020    YES\n",
       "4                 FR  430  350    300  1080    YES\n",
       "5                 NL  210  280    270   760     NO\n",
       "6  Speculaas      BE  300  270    290   860     NO\n",
       "7    Vanilla      BE  610  190    670  1470    YES"
      ]
     },
     "metadata": {},
     "execution_count": 65
    }
   ],
   "source": [
    "final = Delete(6, EmptyCondition())(Fill(0)(Header(1)(sales)))\n",
    "final"
   ]
  },
  {
   "cell_type": "code",
   "execution_count": 67,
   "metadata": {},
   "outputs": [
    {
     "output_type": "execute_result",
     "data": {
      "text/plain": [
       "   0  0  4  0  0  0  0\n",
       "0  1  2  3  0  0  0  5\n",
       "1  0  0  0  0  0  0  0\n",
       "2  0  0  0  0  0  0  0\n",
       "3  0  0  0  0  0  0  0\n",
       "4  0  0  0  0  0  0  0\n",
       "5  0  0  0  0  0  0  0\n",
       "6  0  0  0  0  0  0  0\n",
       "7  0  0  0  0  0  0  0"
      ],
      "text/html": "<div>\n<style scoped>\n    .dataframe tbody tr th:only-of-type {\n        vertical-align: middle;\n    }\n\n    .dataframe tbody tr th {\n        vertical-align: top;\n    }\n\n    .dataframe thead th {\n        text-align: right;\n    }\n</style>\n<table border=\"1\" class=\"dataframe\">\n  <thead>\n    <tr style=\"text-align: right;\">\n      <th></th>\n      <th>0</th>\n      <th>0</th>\n      <th>4</th>\n      <th>0</th>\n      <th>0</th>\n      <th>0</th>\n      <th>0</th>\n    </tr>\n  </thead>\n  <tbody>\n    <tr>\n      <th>0</th>\n      <td>1</td>\n      <td>2</td>\n      <td>3</td>\n      <td>0</td>\n      <td>0</td>\n      <td>0</td>\n      <td>5</td>\n    </tr>\n    <tr>\n      <th>1</th>\n      <td>0</td>\n      <td>0</td>\n      <td>0</td>\n      <td>0</td>\n      <td>0</td>\n      <td>0</td>\n      <td>0</td>\n    </tr>\n    <tr>\n      <th>2</th>\n      <td>0</td>\n      <td>0</td>\n      <td>0</td>\n      <td>0</td>\n      <td>0</td>\n      <td>0</td>\n      <td>0</td>\n    </tr>\n    <tr>\n      <th>3</th>\n      <td>0</td>\n      <td>0</td>\n      <td>0</td>\n      <td>0</td>\n      <td>0</td>\n      <td>0</td>\n      <td>0</td>\n    </tr>\n    <tr>\n      <th>4</th>\n      <td>0</td>\n      <td>0</td>\n      <td>0</td>\n      <td>0</td>\n      <td>0</td>\n      <td>0</td>\n      <td>0</td>\n    </tr>\n    <tr>\n      <th>5</th>\n      <td>0</td>\n      <td>0</td>\n      <td>0</td>\n      <td>0</td>\n      <td>0</td>\n      <td>0</td>\n      <td>0</td>\n    </tr>\n    <tr>\n      <th>6</th>\n      <td>0</td>\n      <td>0</td>\n      <td>0</td>\n      <td>0</td>\n      <td>0</td>\n      <td>0</td>\n      <td>0</td>\n    </tr>\n    <tr>\n      <th>7</th>\n      <td>0</td>\n      <td>0</td>\n      <td>0</td>\n      <td>0</td>\n      <td>0</td>\n      <td>0</td>\n      <td>0</td>\n    </tr>\n  </tbody>\n</table>\n</div>"
     },
     "metadata": {},
     "execution_count": 67
    }
   ],
   "source": [
    "final.color_df"
   ]
  },
  {
   "cell_type": "code",
   "execution_count": 77,
   "metadata": {},
   "outputs": [
    {
     "output_type": "execute_result",
     "data": {
      "text/plain": [
       "         Type Profit Total Country variable value\n",
       "0      Banana    YES  1380      BE     June   170\n",
       "1                 NO  1570      DE     June   610\n",
       "2                YES  1530      DE     June   250\n",
       "3   Chocolate    YES  1020      BE     June   560\n",
       "4                YES  1080      FR     June   430\n",
       "5                 NO   760      NL     June   210\n",
       "6   Speculaas     NO   860      BE     June   300\n",
       "7     Vanilla    YES  1470      BE     June   610\n",
       "8      Banana    YES  1380      BE     July   690\n",
       "9                 NO  1570      DE     July   640\n",
       "10               YES  1530      DE     July   650\n",
       "11  Chocolate    YES  1020      BE     July   320\n",
       "12               YES  1080      FR     July   350\n",
       "13                NO   760      NL     July   280\n",
       "14  Speculaas     NO   860      BE     July   270\n",
       "15    Vanilla    YES  1470      BE     July   190\n",
       "16     Banana    YES  1380      BE   August   520\n",
       "17                NO  1570      DE   August   320\n",
       "18               YES  1530      DE   August   630\n",
       "19  Chocolate    YES  1020      BE   August   140\n",
       "20               YES  1080      FR   August   300\n",
       "21                NO   760      NL   August   270\n",
       "22  Speculaas     NO   860      BE   August   290\n",
       "23    Vanilla    YES  1470      BE   August   670"
      ],
      "text/html": "<div>\n<style scoped>\n    .dataframe tbody tr th:only-of-type {\n        vertical-align: middle;\n    }\n\n    .dataframe tbody tr th {\n        vertical-align: top;\n    }\n\n    .dataframe thead th {\n        text-align: right;\n    }\n</style>\n<table border=\"1\" class=\"dataframe\">\n  <thead>\n    <tr style=\"text-align: right;\">\n      <th></th>\n      <th>Type</th>\n      <th>Profit</th>\n      <th>Total</th>\n      <th>Country</th>\n      <th>variable</th>\n      <th>value</th>\n    </tr>\n  </thead>\n  <tbody>\n    <tr>\n      <th>0</th>\n      <td>Banana</td>\n      <td>YES</td>\n      <td>1380</td>\n      <td>BE</td>\n      <td>June</td>\n      <td>170</td>\n    </tr>\n    <tr>\n      <th>1</th>\n      <td></td>\n      <td>NO</td>\n      <td>1570</td>\n      <td>DE</td>\n      <td>June</td>\n      <td>610</td>\n    </tr>\n    <tr>\n      <th>2</th>\n      <td></td>\n      <td>YES</td>\n      <td>1530</td>\n      <td>DE</td>\n      <td>June</td>\n      <td>250</td>\n    </tr>\n    <tr>\n      <th>3</th>\n      <td>Chocolate</td>\n      <td>YES</td>\n      <td>1020</td>\n      <td>BE</td>\n      <td>June</td>\n      <td>560</td>\n    </tr>\n    <tr>\n      <th>4</th>\n      <td></td>\n      <td>YES</td>\n      <td>1080</td>\n      <td>FR</td>\n      <td>June</td>\n      <td>430</td>\n    </tr>\n    <tr>\n      <th>5</th>\n      <td></td>\n      <td>NO</td>\n      <td>760</td>\n      <td>NL</td>\n      <td>June</td>\n      <td>210</td>\n    </tr>\n    <tr>\n      <th>6</th>\n      <td>Speculaas</td>\n      <td>NO</td>\n      <td>860</td>\n      <td>BE</td>\n      <td>June</td>\n      <td>300</td>\n    </tr>\n    <tr>\n      <th>7</th>\n      <td>Vanilla</td>\n      <td>YES</td>\n      <td>1470</td>\n      <td>BE</td>\n      <td>June</td>\n      <td>610</td>\n    </tr>\n    <tr>\n      <th>8</th>\n      <td>Banana</td>\n      <td>YES</td>\n      <td>1380</td>\n      <td>BE</td>\n      <td>July</td>\n      <td>690</td>\n    </tr>\n    <tr>\n      <th>9</th>\n      <td></td>\n      <td>NO</td>\n      <td>1570</td>\n      <td>DE</td>\n      <td>July</td>\n      <td>640</td>\n    </tr>\n    <tr>\n      <th>10</th>\n      <td></td>\n      <td>YES</td>\n      <td>1530</td>\n      <td>DE</td>\n      <td>July</td>\n      <td>650</td>\n    </tr>\n    <tr>\n      <th>11</th>\n      <td>Chocolate</td>\n      <td>YES</td>\n      <td>1020</td>\n      <td>BE</td>\n      <td>July</td>\n      <td>320</td>\n    </tr>\n    <tr>\n      <th>12</th>\n      <td></td>\n      <td>YES</td>\n      <td>1080</td>\n      <td>FR</td>\n      <td>July</td>\n      <td>350</td>\n    </tr>\n    <tr>\n      <th>13</th>\n      <td></td>\n      <td>NO</td>\n      <td>760</td>\n      <td>NL</td>\n      <td>July</td>\n      <td>280</td>\n    </tr>\n    <tr>\n      <th>14</th>\n      <td>Speculaas</td>\n      <td>NO</td>\n      <td>860</td>\n      <td>BE</td>\n      <td>July</td>\n      <td>270</td>\n    </tr>\n    <tr>\n      <th>15</th>\n      <td>Vanilla</td>\n      <td>YES</td>\n      <td>1470</td>\n      <td>BE</td>\n      <td>July</td>\n      <td>190</td>\n    </tr>\n    <tr>\n      <th>16</th>\n      <td>Banana</td>\n      <td>YES</td>\n      <td>1380</td>\n      <td>BE</td>\n      <td>August</td>\n      <td>520</td>\n    </tr>\n    <tr>\n      <th>17</th>\n      <td></td>\n      <td>NO</td>\n      <td>1570</td>\n      <td>DE</td>\n      <td>August</td>\n      <td>320</td>\n    </tr>\n    <tr>\n      <th>18</th>\n      <td></td>\n      <td>YES</td>\n      <td>1530</td>\n      <td>DE</td>\n      <td>August</td>\n      <td>630</td>\n    </tr>\n    <tr>\n      <th>19</th>\n      <td>Chocolate</td>\n      <td>YES</td>\n      <td>1020</td>\n      <td>BE</td>\n      <td>August</td>\n      <td>140</td>\n    </tr>\n    <tr>\n      <th>20</th>\n      <td></td>\n      <td>YES</td>\n      <td>1080</td>\n      <td>FR</td>\n      <td>August</td>\n      <td>300</td>\n    </tr>\n    <tr>\n      <th>21</th>\n      <td></td>\n      <td>NO</td>\n      <td>760</td>\n      <td>NL</td>\n      <td>August</td>\n      <td>270</td>\n    </tr>\n    <tr>\n      <th>22</th>\n      <td>Speculaas</td>\n      <td>NO</td>\n      <td>860</td>\n      <td>BE</td>\n      <td>August</td>\n      <td>290</td>\n    </tr>\n    <tr>\n      <th>23</th>\n      <td>Vanilla</td>\n      <td>YES</td>\n      <td>1470</td>\n      <td>BE</td>\n      <td>August</td>\n      <td>670</td>\n    </tr>\n  </tbody>\n</table>\n</div>"
     },
     "metadata": {},
     "execution_count": 77
    }
   ],
   "source": [
    "folded = Fold(2, 4)(final)\n",
    "folded.df"
   ]
  },
  {
   "cell_type": "code",
   "execution_count": 80,
   "metadata": {},
   "outputs": [
    {
     "output_type": "stream",
     "name": "stdout",
     "text": [
      "Counter()\n"
     ]
    },
    {
     "output_type": "execute_result",
     "data": {
      "text/plain": [
       "0.0"
      ]
     },
     "metadata": {},
     "execution_count": 80
    }
   ],
   "source": [
    "error(folded)"
   ]
  },
  {
   "cell_type": "code",
   "execution_count": 78,
   "metadata": {},
   "outputs": [
    {
     "output_type": "execute_result",
     "data": {
      "text/plain": [
       "True"
      ]
     },
     "metadata": {},
     "execution_count": 78
    }
   ],
   "source": [
    "folded.header"
   ]
  },
  {
   "cell_type": "code",
   "execution_count": null,
   "metadata": {},
   "outputs": [],
   "source": []
  }
 ],
 "metadata": {
  "kernelspec": {
   "name": "python3",
   "display_name": "Python 3.9.5 64-bit ('synthasizer-llFb8Gxw': pipenv)"
  },
  "language_info": {
   "codemirror_mode": {
    "name": "ipython",
    "version": 3
   },
   "file_extension": ".py",
   "mimetype": "text/x-python",
   "name": "python",
   "nbconvert_exporter": "python",
   "pygments_lexer": "ipython3",
   "version": "3.9.5"
  },
  "interpreter": {
   "hash": "5a7bf517d1db13cfe7af313b786612ecdd2eb920b6e429ca6f332d19c4800d9b"
  }
 },
 "nbformat": 4,
 "nbformat_minor": 4
}